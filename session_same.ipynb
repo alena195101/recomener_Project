{
 "cells": [
  {
   "cell_type": "markdown",
   "metadata": {},
   "source": [
    "## Реализация похожести товаров по пользовательским сессиям"
   ]
  },
  {
   "cell_type": "code",
   "execution_count": 43,
   "metadata": {
    "colab": {},
    "colab_type": "code",
    "id": "yjf6JoZ4-e9Z"
   },
   "outputs": [],
   "source": [
    "import numpy as np\n",
    "import pandas as pd\n",
    "import scipy.sparse as sp\n",
    "import datetime as dt\n",
    "from sklearn.preprocessing import normalize"
   ]
  },
  {
   "cell_type": "code",
   "execution_count": 13,
   "metadata": {
    "colab": {
     "base_uri": "https://localhost:8080/",
     "height": 34
    },
    "colab_type": "code",
    "executionInfo": {
     "elapsed": 755,
     "status": "ok",
     "timestamp": 1573081577364,
     "user": {
      "displayName": "Павел Парфенов",
      "photoUrl": "",
      "userId": "00456899921274964308"
     },
     "user_tz": -180
    },
    "id": "Nft_mXvi-ltu",
    "outputId": "c29493f6-7fe0-470e-a3ce-2a0bf67d102d"
   },
   "outputs": [
    {
     "name": "stdout",
     "output_type": "stream",
     "text": [
      "Drive already mounted at /content/gdrive; to attempt to forcibly remount, call drive.mount(\"/content/gdrive\", force_remount=True).\n"
     ]
    }
   ],
   "source": [
    "from google.colab import drive\n",
    "drive.mount('/content/gdrive')"
   ]
  },
  {
   "cell_type": "code",
   "execution_count": 14,
   "metadata": {
    "colab": {
     "base_uri": "https://localhost:8080/",
     "height": 34
    },
    "colab_type": "code",
    "executionInfo": {
     "elapsed": 1897,
     "status": "ok",
     "timestamp": 1573081583287,
     "user": {
      "displayName": "Павел Парфенов",
      "photoUrl": "",
      "userId": "00456899921274964308"
     },
     "user_tz": -180
    },
    "id": "gaQBVIk6-tc-",
    "outputId": "185deb6d-c6c8-44a9-a7b5-83272c75a58b",
    "scrolled": true
   },
   "outputs": [
    {
     "name": "stdout",
     "output_type": "stream",
     "text": [
      "/content/gdrive/My Drive/OZON\n"
     ]
    }
   ],
   "source": [
    "cd /content/gdrive/My Drive/OZON"
   ]
  },
  {
   "cell_type": "markdown",
   "metadata": {},
   "source": [
    "## Считывание и предобработка данных\n",
    "\n",
    "### функция для переиндексации товаров"
   ]
  },
  {
   "cell_type": "code",
   "execution_count": 44,
   "metadata": {},
   "outputs": [],
   "source": [
    "def newIndex(session_item):\n",
    "    sessionid = session_item['sessionid'].unique() # все уникальные айди клиентов из user_actions\n",
    "    session_cat = np.arange(0, len(sessionid), dtype='uint32') # массив с элементами от 0 до n - 1\n",
    "\n",
    "    # таблица, где каждая строка переводит clientid в номер строки\n",
    "    user_mapping = pd.DataFrame({'old': sessionid, 'new': session_cat})\n",
    "\n",
    "    items_id = session_item['itemid'].unique() # все уникальные айди товаров из user_actions\n",
    "    items_cat = np.arange(0, len(items_id), dtype='uint32') # массив с элементами от 0 до m - 1\n",
    "\n",
    "    # таблица, где каждая строка переводит itemid в номер столбца\n",
    "    item_mapping = pd.DataFrame({'old': items_id, 'new': items_cat})\n",
    "\n",
    "    session_item['sessionid'] = session_item['sessionid'].map(user_mapping.set_index('old').new)\n",
    "    session_item['itemid'] = session_item['itemid'].map(item_mapping.set_index('old').new)\n",
    "    return (session_item, user_mapping, item_mapping)"
   ]
  },
  {
   "cell_type": "markdown",
   "metadata": {},
   "source": [
    "### Данные сессий"
   ]
  },
  {
   "cell_type": "code",
   "execution_count": 45,
   "metadata": {
    "colab": {
     "base_uri": "https://localhost:8080/",
     "height": 204
    },
    "colab_type": "code",
    "executionInfo": {
     "elapsed": 3538,
     "status": "ok",
     "timestamp": 1573081592342,
     "user": {
      "displayName": "Павел Парфенов",
      "photoUrl": "",
      "userId": "00456899921274964308"
     },
     "user_tz": -180
    },
    "id": "i_dY-aOr-02n",
    "outputId": "e35f2fac-6fdc-405e-d6b6-8758e4ccd839"
   },
   "outputs": [
    {
     "data": {
      "text/html": [
       "<div>\n",
       "<style scoped>\n",
       "    .dataframe tbody tr th:only-of-type {\n",
       "        vertical-align: middle;\n",
       "    }\n",
       "\n",
       "    .dataframe tbody tr th {\n",
       "        vertical-align: top;\n",
       "    }\n",
       "\n",
       "    .dataframe thead th {\n",
       "        text-align: right;\n",
       "    }\n",
       "</style>\n",
       "<table border=\"1\" class=\"dataframe\">\n",
       "  <thead>\n",
       "    <tr style=\"text-align: right;\">\n",
       "      <th></th>\n",
       "      <th>sessionid</th>\n",
       "      <th>itemid</th>\n",
       "      <th>action_type</th>\n",
       "      <th>event_date</th>\n",
       "    </tr>\n",
       "  </thead>\n",
       "  <tbody>\n",
       "    <tr>\n",
       "      <th>0</th>\n",
       "      <td>0</td>\n",
       "      <td>146494488</td>\n",
       "      <td>0</td>\n",
       "      <td>2019-08-19</td>\n",
       "    </tr>\n",
       "    <tr>\n",
       "      <th>1</th>\n",
       "      <td>0</td>\n",
       "      <td>147656978</td>\n",
       "      <td>0</td>\n",
       "      <td>2019-08-19</td>\n",
       "    </tr>\n",
       "    <tr>\n",
       "      <th>2</th>\n",
       "      <td>0</td>\n",
       "      <td>136271000</td>\n",
       "      <td>0</td>\n",
       "      <td>2019-08-19</td>\n",
       "    </tr>\n",
       "    <tr>\n",
       "      <th>3</th>\n",
       "      <td>0</td>\n",
       "      <td>147019789</td>\n",
       "      <td>0</td>\n",
       "      <td>2019-08-19</td>\n",
       "    </tr>\n",
       "    <tr>\n",
       "      <th>4</th>\n",
       "      <td>0</td>\n",
       "      <td>32117708</td>\n",
       "      <td>0</td>\n",
       "      <td>2019-08-19</td>\n",
       "    </tr>\n",
       "  </tbody>\n",
       "</table>\n",
       "</div>"
      ],
      "text/plain": [
       "   sessionid     itemid  action_type  event_date\n",
       "0          0  146494488            0  2019-08-19\n",
       "1          0  147656978            0  2019-08-19\n",
       "2          0  136271000            0  2019-08-19\n",
       "3          0  147019789            0  2019-08-19\n",
       "4          0   32117708            0  2019-08-19"
      ]
     },
     "execution_count": 45,
     "metadata": {},
     "output_type": "execute_result"
    }
   ],
   "source": [
    "item_sessions = pd.read_parquet('data/sessions.parquet')\n",
    "item_sessions.head()"
   ]
  },
  {
   "cell_type": "code",
   "execution_count": 46,
   "metadata": {
    "colab": {
     "base_uri": "https://localhost:8080/",
     "height": 170
    },
    "colab_type": "code",
    "executionInfo": {
     "elapsed": 12057,
     "status": "ok",
     "timestamp": 1573081607213,
     "user": {
      "displayName": "Павел Парфенов",
      "photoUrl": "",
      "userId": "00456899921274964308"
     },
     "user_tz": -180
    },
    "id": "dt2DTr4y_us8",
    "outputId": "268109dd-bb2e-408f-c790-9dfe554e0aa2",
    "scrolled": true
   },
   "outputs": [
    {
     "name": "stdout",
     "output_type": "stream",
     "text": [
      "<class 'pandas.core.frame.DataFrame'>\n",
      "RangeIndex: 38956702 entries, 0 to 38956701\n",
      "Data columns (total 4 columns):\n",
      "sessionid      uint32\n",
      "itemid         uint32\n",
      "action_type    bool\n",
      "event_date     uint32\n",
      "dtypes: bool(1), uint32(3)\n",
      "memory usage: 483.0 MB\n"
     ]
    }
   ],
   "source": [
    "item_sessions['sessionid'] = item_sessions['sessionid'].astype('uint32')\n",
    "item_sessions['itemid'] = item_sessions['itemid'].astype('uint32')\n",
    "item_sessions['action_type'] = item_sessions['action_type'].astype('bool')\n",
    "item_sessions['event_date'] = item_sessions['event_date'].apply(dt.datetime.toordinal).astype('uint32')\n",
    "item_sessions.info()"
   ]
  },
  {
   "cell_type": "markdown",
   "metadata": {},
   "source": [
    "### Делим анные из сессий для просмотров"
   ]
  },
  {
   "cell_type": "code",
   "execution_count": 47,
   "metadata": {},
   "outputs": [],
   "source": [
    "data_view = (\n",
    "    item_sessions[~item_sessions['action_type']]\n",
    "    .reset_index(drop=True)\n",
    "    .drop(columns=['event_date', 'action_type'])\n",
    ")\n",
    "session_view, session_mapping_view, item_mapping_view = newIndex(data_view)"
   ]
  },
  {
   "cell_type": "markdown",
   "metadata": {},
   "source": [
    "### Делим данные из сессий для картэдов"
   ]
  },
  {
   "cell_type": "code",
   "execution_count": 48,
   "metadata": {},
   "outputs": [],
   "source": [
    "data_tocart = (\n",
    "    item_sessions[item_sessions['action_type']]\n",
    "    .reset_index(drop=True)\n",
    "    .drop(columns=['event_date', 'action_type'])\n",
    ")\n",
    "session_tocart, session_mapping_tocart, item_mapping_tocart = newIndex(data_tocart)"
   ]
  },
  {
   "cell_type": "markdown",
   "metadata": {},
   "source": [
    "### train test"
   ]
  },
  {
   "cell_type": "code",
   "execution_count": 49,
   "metadata": {
    "colab": {
     "base_uri": "https://localhost:8080/",
     "height": 204
    },
    "colab_type": "code",
    "executionInfo": {
     "elapsed": 8694,
     "status": "ok",
     "timestamp": 1571843746200,
     "user": {
      "displayName": "Алена Тимофеева",
      "photoUrl": "",
      "userId": "17526456028262676023"
     },
     "user_tz": -180
    },
    "id": "4HVOXU9HDHbJ",
    "outputId": "6f19d73a-2dad-4b02-f337-79825b8b9b7d"
   },
   "outputs": [],
   "source": [
    "train_target = pd.read_csv('data/train_with_scores.csv')\n",
    "test_target = pd.read_csv('data/test_with_scores.csv')"
   ]
  },
  {
   "cell_type": "code",
   "execution_count": 50,
   "metadata": {},
   "outputs": [
    {
     "name": "stdout",
     "output_type": "stream",
     "text": [
      "<class 'pandas.core.frame.DataFrame'>\n",
      "RangeIndex: 597158 entries, 0 to 597157\n",
      "Data columns (total 15 columns):\n",
      "clientid                          597158 non-null uint32\n",
      "itemid                            597158 non-null uint32\n",
      "jointitemid                       597158 non-null uint32\n",
      "label                             597158 non-null uint8\n",
      "timestamp                         597158 non-null object\n",
      "view_cnt                          597158 non-null float64\n",
      "to_cart_cnt                       597158 non-null float64\n",
      "ctr                               597158 non-null float64\n",
      "novelty_cnt                       597158 non-null uint32\n",
      "to_cart_day_avg_cnt               597158 non-null float64\n",
      "view_day_avg_cnt                  597158 non-null float64\n",
      "to_cart_Lust_Day_cnt              597158 non-null float64\n",
      "last_day_views                    597158 non-null float64\n",
      "lastDayToCart/dayAvgToCart_cnt    597158 non-null float64\n",
      "lastDayView/dayAvgView_cnt        597158 non-null float64\n",
      "dtypes: float64(9), object(1), uint32(4), uint8(1)\n",
      "memory usage: 55.2+ MB\n"
     ]
    }
   ],
   "source": [
    "train_target['clientid'] = train_target['clientid'].astype('uint32')\n",
    "train_target['jointitemid'] = train_target['jointitemid'].astype('uint32')\n",
    "train_target['novelty_cnt']=train_target['novelty_cnt'].astype('uint32')\n",
    "train_target['itemid']=train_target['itemid'].astype('uint32')\n",
    "train_target['label']=train_target['label'].astype('uint8')\n",
    "\n",
    "test_target['clientid'] = test_target['clientid'].astype('uint32')\n",
    "test_target['jointitemid'] = test_target['jointitemid'].astype('uint32')\n",
    "test_target['novelty_cnt']=test_target['novelty_cnt'].astype('uint32')\n",
    "test_target['itemid']=test_target['itemid'].astype('uint32')\n",
    "test_target['label'] = test_target['label'].astype('uint8')\n",
    "test_target.info()"
   ]
  },
  {
   "cell_type": "markdown",
   "metadata": {
    "colab_type": "text",
    "id": "Wh0843WoMIPP"
   },
   "source": [
    "## Составим матрицу товар/сессия\n",
    "\n"
   ]
  },
  {
   "cell_type": "code",
   "execution_count": 51,
   "metadata": {
    "colab": {},
    "colab_type": "code",
    "id": "KCmqh8hrLGtD"
   },
   "outputs": [],
   "source": [
    "#Для просмотров\n",
    "shape = (item_mapping_view['new'].max()+1,  session_mapping_view['new'].max()+1)\n",
    "item_session_view = sp.csr_matrix(arg1 = (np.ones_like(session_view['sessionid'].values), \n",
    "                                       (session_view['itemid'].values, session_view['sessionid'].values)), shape=shape)"
   ]
  },
  {
   "cell_type": "code",
   "execution_count": 52,
   "metadata": {
    "colab": {},
    "colab_type": "code",
    "id": "bBQrUqYtWIHe"
   },
   "outputs": [],
   "source": [
    "#Для картэдов\n",
    "shape_1 = (item_mapping_tocart['new'].max()+1,  session_mapping_tocart['new'].max()+1)\n",
    "item_session_tocart = sp.csr_matrix(arg1 = (np.ones_like(session_tocart['sessionid'].values), \n",
    "                                       (session_tocart['itemid'].values, session_tocart['sessionid'].values)), shape=shape)"
   ]
  },
  {
   "cell_type": "markdown",
   "metadata": {
    "colab_type": "text",
    "id": "Hfi5NqhmZkt9"
   },
   "source": [
    "## Функция для:\n",
    "### – Расчета похожести товаров от частоты попадания в одну сессию\n",
    "### – Расчета похожести товаров от количесва сессий, в которых встречались товары\n"
   ]
  },
  {
   "cell_type": "code",
   "execution_count": 53,
   "metadata": {},
   "outputs": [],
   "source": [
    "def count_same_score(data, matrix, action):\n",
    "    pairs = data.dropna()[['item_cat', 'jointitem_cat']]\n",
    "    pairs['item_cat'] = pairs['item_cat'].astype('uint32')\n",
    "    pairs['jointitem_cat'] = pairs['jointitem_cat'].astype('uint32')\n",
    "\n",
    "    pairs['same_items_on_session_' +action] = (\n",
    "      normalize(matrix[pairs['item_cat'].values], axis=1)\n",
    "      .multiply(normalize(matrix[ pairs['jointitem_cat'].values], axis=1))\n",
    "      .sum(axis=1)\n",
    "    )\n",
    "    pairs['count_on_session_' +action] = (\n",
    "      matrix[pairs['item_cat'].values]\n",
    "      .multiply(matrix[ pairs['jointitem_cat'].values])\n",
    "      .sum(axis=1)\n",
    "    )\n",
    "\n",
    "    data = pd.merge(data, pairs, on=['item_cat', 'jointitem_cat'], how = 'left').drop_duplicates()\n",
    "    return data"
   ]
  },
  {
   "cell_type": "markdown",
   "metadata": {},
   "source": [
    "## обработка  train и test\n",
    "\n",
    "### train\n",
    "train. Для проссмотров"
   ]
  },
  {
   "cell_type": "code",
   "execution_count": 54,
   "metadata": {
    "colab": {
     "base_uri": "https://localhost:8080/",
     "height": 187
    },
    "colab_type": "code",
    "executionInfo": {
     "elapsed": 2560,
     "status": "ok",
     "timestamp": 1573084976103,
     "user": {
      "displayName": "Павел Парфенов",
      "photoUrl": "",
      "userId": "00456899921274964308"
     },
     "user_tz": -180
    },
    "id": "2XYDpAI5wRfP",
    "outputId": "910c761a-a6e3-4e30-ac65-7d3fbd4af444"
   },
   "outputs": [],
   "source": [
    "train_target_view = train_target.drop(columns=['timestamp', 'label'])\n",
    "train_target_view['item_cat'] = train_target_view['itemid'].map(item_mapping_view.set_index('old').new)\n",
    "train_target_view['jointitem_cat'] = train_target_view['jointitemid'].map(item_mapping_view.set_index('old').new)"
   ]
  },
  {
   "cell_type": "markdown",
   "metadata": {},
   "source": [
    "train. Для картедов"
   ]
  },
  {
   "cell_type": "code",
   "execution_count": 55,
   "metadata": {
    "colab": {
     "base_uri": "https://localhost:8080/",
     "height": 187
    },
    "colab_type": "code",
    "executionInfo": {
     "elapsed": 1670,
     "status": "ok",
     "timestamp": 1573084982002,
     "user": {
      "displayName": "Павел Парфенов",
      "photoUrl": "",
      "userId": "00456899921274964308"
     },
     "user_tz": -180
    },
    "id": "z-LvZIA1SFyv",
    "outputId": "fa599998-386a-47d5-cf5a-b304f311b0db"
   },
   "outputs": [],
   "source": [
    "train_target_tocart = train_target.drop(columns=['timestamp', 'label'])\n",
    "train_target_tocart['item_cat'] = train_target_tocart['itemid'].map(item_mapping_tocart.set_index('old').new)\n",
    "train_target_tocart['jointitem_cat'] = train_target_tocart['jointitemid'].map(item_mapping_tocart.set_index('old').new)\n"
   ]
  },
  {
   "cell_type": "code",
   "execution_count": 56,
   "metadata": {
    "colab": {},
    "colab_type": "code",
    "id": "7ZQwIoRjCxtf"
   },
   "outputs": [],
   "source": [
    "train_view = count_same_score(train_target_view, item_session_view, 'view')"
   ]
  },
  {
   "cell_type": "code",
   "execution_count": 57,
   "metadata": {
    "colab": {},
    "colab_type": "code",
    "id": "VzTGqUNFTtpE"
   },
   "outputs": [],
   "source": [
    "train_tocart = count_same_score(train_target_tocart, item_session_tocart, 'to_cart')"
   ]
  },
  {
   "cell_type": "code",
   "execution_count": 58,
   "metadata": {
    "colab": {
     "base_uri": "https://localhost:8080/",
     "height": 204
    },
    "colab_type": "code",
    "executionInfo": {
     "elapsed": 985,
     "status": "ok",
     "timestamp": 1571844130460,
     "user": {
      "displayName": "Алена Тимофеева",
      "photoUrl": "",
      "userId": "17526456028262676023"
     },
     "user_tz": -180
    },
    "id": "vr8ALiIt5SNq",
    "outputId": "ba9e08a4-0092-443f-cb95-020d847f14f2"
   },
   "outputs": [
    {
     "data": {
      "text/html": [
       "<div>\n",
       "<style scoped>\n",
       "    .dataframe tbody tr th:only-of-type {\n",
       "        vertical-align: middle;\n",
       "    }\n",
       "\n",
       "    .dataframe tbody tr th {\n",
       "        vertical-align: top;\n",
       "    }\n",
       "\n",
       "    .dataframe thead th {\n",
       "        text-align: right;\n",
       "    }\n",
       "</style>\n",
       "<table border=\"1\" class=\"dataframe\">\n",
       "  <thead>\n",
       "    <tr style=\"text-align: right;\">\n",
       "      <th></th>\n",
       "      <th>clientid</th>\n",
       "      <th>itemid</th>\n",
       "      <th>jointitemid</th>\n",
       "      <th>view_cnt</th>\n",
       "      <th>to_cart_cnt</th>\n",
       "      <th>ctr</th>\n",
       "      <th>novelty_cnt</th>\n",
       "      <th>to_cart_day_avg_cnt</th>\n",
       "      <th>view_day_avg_cnt</th>\n",
       "      <th>to_cart_Lust_Day_cnt</th>\n",
       "      <th>last_day_views</th>\n",
       "      <th>lastDayToCart/dayAvgToCart_cnt</th>\n",
       "      <th>lastDayView/dayAvgView_cnt</th>\n",
       "      <th>item_cat</th>\n",
       "      <th>jointitem_cat</th>\n",
       "      <th>same_items_on_session_view</th>\n",
       "      <th>count_on_session_view</th>\n",
       "    </tr>\n",
       "  </thead>\n",
       "  <tbody>\n",
       "    <tr>\n",
       "      <th>0</th>\n",
       "      <td>7833842</td>\n",
       "      <td>31499843</td>\n",
       "      <td>138176581</td>\n",
       "      <td>31.0</td>\n",
       "      <td>9.0</td>\n",
       "      <td>3.444444</td>\n",
       "      <td>737272</td>\n",
       "      <td>1.500</td>\n",
       "      <td>1.722222</td>\n",
       "      <td>0.0</td>\n",
       "      <td>0.0</td>\n",
       "      <td>0.0</td>\n",
       "      <td>0.0</td>\n",
       "      <td>53719.0</td>\n",
       "      <td>557229.0</td>\n",
       "      <td>0.000000</td>\n",
       "      <td>0.0</td>\n",
       "    </tr>\n",
       "    <tr>\n",
       "      <th>2</th>\n",
       "      <td>19548158</td>\n",
       "      <td>147389610</td>\n",
       "      <td>148381589</td>\n",
       "      <td>24.0</td>\n",
       "      <td>9.0</td>\n",
       "      <td>2.666667</td>\n",
       "      <td>737272</td>\n",
       "      <td>1.125</td>\n",
       "      <td>1.600000</td>\n",
       "      <td>0.0</td>\n",
       "      <td>0.0</td>\n",
       "      <td>0.0</td>\n",
       "      <td>0.0</td>\n",
       "      <td>201366.0</td>\n",
       "      <td>1104614.0</td>\n",
       "      <td>0.160623</td>\n",
       "      <td>5.0</td>\n",
       "    </tr>\n",
       "    <tr>\n",
       "      <th>4</th>\n",
       "      <td>32943407</td>\n",
       "      <td>6261257</td>\n",
       "      <td>4490956</td>\n",
       "      <td>0.0</td>\n",
       "      <td>1.0</td>\n",
       "      <td>0.000000</td>\n",
       "      <td>0</td>\n",
       "      <td>1.000</td>\n",
       "      <td>0.000000</td>\n",
       "      <td>0.0</td>\n",
       "      <td>0.0</td>\n",
       "      <td>0.0</td>\n",
       "      <td>0.0</td>\n",
       "      <td>549251.0</td>\n",
       "      <td>524064.0</td>\n",
       "      <td>0.000000</td>\n",
       "      <td>0.0</td>\n",
       "    </tr>\n",
       "    <tr>\n",
       "      <th>5</th>\n",
       "      <td>10185243</td>\n",
       "      <td>148455169</td>\n",
       "      <td>148455173</td>\n",
       "      <td>10.0</td>\n",
       "      <td>1.0</td>\n",
       "      <td>10.000000</td>\n",
       "      <td>737275</td>\n",
       "      <td>1.000</td>\n",
       "      <td>1.111111</td>\n",
       "      <td>0.0</td>\n",
       "      <td>0.0</td>\n",
       "      <td>0.0</td>\n",
       "      <td>0.0</td>\n",
       "      <td>947588.0</td>\n",
       "      <td>1517350.0</td>\n",
       "      <td>0.000000</td>\n",
       "      <td>0.0</td>\n",
       "    </tr>\n",
       "    <tr>\n",
       "      <th>6</th>\n",
       "      <td>30552232</td>\n",
       "      <td>152440009</td>\n",
       "      <td>152440052</td>\n",
       "      <td>9.0</td>\n",
       "      <td>1.0</td>\n",
       "      <td>9.000000</td>\n",
       "      <td>737274</td>\n",
       "      <td>1.000</td>\n",
       "      <td>1.285714</td>\n",
       "      <td>0.0</td>\n",
       "      <td>0.0</td>\n",
       "      <td>0.0</td>\n",
       "      <td>0.0</td>\n",
       "      <td>1449.0</td>\n",
       "      <td>281873.0</td>\n",
       "      <td>0.005222</td>\n",
       "      <td>1.0</td>\n",
       "    </tr>\n",
       "  </tbody>\n",
       "</table>\n",
       "</div>"
      ],
      "text/plain": [
       "   clientid     itemid  jointitemid  view_cnt  to_cart_cnt        ctr  \\\n",
       "0   7833842   31499843    138176581      31.0          9.0   3.444444   \n",
       "2  19548158  147389610    148381589      24.0          9.0   2.666667   \n",
       "4  32943407    6261257      4490956       0.0          1.0   0.000000   \n",
       "5  10185243  148455169    148455173      10.0          1.0  10.000000   \n",
       "6  30552232  152440009    152440052       9.0          1.0   9.000000   \n",
       "\n",
       "   novelty_cnt  to_cart_day_avg_cnt  view_day_avg_cnt  to_cart_Lust_Day_cnt  \\\n",
       "0       737272                1.500          1.722222                   0.0   \n",
       "2       737272                1.125          1.600000                   0.0   \n",
       "4            0                1.000          0.000000                   0.0   \n",
       "5       737275                1.000          1.111111                   0.0   \n",
       "6       737274                1.000          1.285714                   0.0   \n",
       "\n",
       "   last_day_views  lastDayToCart/dayAvgToCart_cnt  lastDayView/dayAvgView_cnt  \\\n",
       "0             0.0                             0.0                         0.0   \n",
       "2             0.0                             0.0                         0.0   \n",
       "4             0.0                             0.0                         0.0   \n",
       "5             0.0                             0.0                         0.0   \n",
       "6             0.0                             0.0                         0.0   \n",
       "\n",
       "   item_cat  jointitem_cat  same_items_on_session_view  count_on_session_view  \n",
       "0   53719.0       557229.0                    0.000000                    0.0  \n",
       "2  201366.0      1104614.0                    0.160623                    5.0  \n",
       "4  549251.0       524064.0                    0.000000                    0.0  \n",
       "5  947588.0      1517350.0                    0.000000                    0.0  \n",
       "6    1449.0       281873.0                    0.005222                    1.0  "
      ]
     },
     "execution_count": 58,
     "metadata": {},
     "output_type": "execute_result"
    }
   ],
   "source": [
    "train_view.head()"
   ]
  },
  {
   "cell_type": "code",
   "execution_count": 59,
   "metadata": {
    "colab": {
     "base_uri": "https://localhost:8080/",
     "height": 204
    },
    "colab_type": "code",
    "executionInfo": {
     "elapsed": 955,
     "status": "ok",
     "timestamp": 1571844135058,
     "user": {
      "displayName": "Алена Тимофеева",
      "photoUrl": "",
      "userId": "17526456028262676023"
     },
     "user_tz": -180
    },
    "id": "fM6cAZ37T7J-",
    "outputId": "52398051-42f4-44b2-b431-3b447887ef4a"
   },
   "outputs": [
    {
     "data": {
      "text/html": [
       "<div>\n",
       "<style scoped>\n",
       "    .dataframe tbody tr th:only-of-type {\n",
       "        vertical-align: middle;\n",
       "    }\n",
       "\n",
       "    .dataframe tbody tr th {\n",
       "        vertical-align: top;\n",
       "    }\n",
       "\n",
       "    .dataframe thead th {\n",
       "        text-align: right;\n",
       "    }\n",
       "</style>\n",
       "<table border=\"1\" class=\"dataframe\">\n",
       "  <thead>\n",
       "    <tr style=\"text-align: right;\">\n",
       "      <th></th>\n",
       "      <th>clientid</th>\n",
       "      <th>itemid</th>\n",
       "      <th>jointitemid</th>\n",
       "      <th>view_cnt</th>\n",
       "      <th>to_cart_cnt</th>\n",
       "      <th>ctr</th>\n",
       "      <th>novelty_cnt</th>\n",
       "      <th>to_cart_day_avg_cnt</th>\n",
       "      <th>view_day_avg_cnt</th>\n",
       "      <th>to_cart_Lust_Day_cnt</th>\n",
       "      <th>last_day_views</th>\n",
       "      <th>lastDayToCart/dayAvgToCart_cnt</th>\n",
       "      <th>lastDayView/dayAvgView_cnt</th>\n",
       "      <th>item_cat</th>\n",
       "      <th>jointitem_cat</th>\n",
       "      <th>same_items_on_session_to_cart</th>\n",
       "      <th>count_on_session_to_cart</th>\n",
       "    </tr>\n",
       "  </thead>\n",
       "  <tbody>\n",
       "    <tr>\n",
       "      <th>0</th>\n",
       "      <td>7833842</td>\n",
       "      <td>31499843</td>\n",
       "      <td>138176581</td>\n",
       "      <td>31.0</td>\n",
       "      <td>9.0</td>\n",
       "      <td>3.444444</td>\n",
       "      <td>737272</td>\n",
       "      <td>1.500</td>\n",
       "      <td>1.722222</td>\n",
       "      <td>0.0</td>\n",
       "      <td>0.0</td>\n",
       "      <td>0.0</td>\n",
       "      <td>0.0</td>\n",
       "      <td>442586.0</td>\n",
       "      <td>395289.0</td>\n",
       "      <td>0.069338</td>\n",
       "      <td>1.0</td>\n",
       "    </tr>\n",
       "    <tr>\n",
       "      <th>2</th>\n",
       "      <td>19548158</td>\n",
       "      <td>147389610</td>\n",
       "      <td>148381589</td>\n",
       "      <td>24.0</td>\n",
       "      <td>9.0</td>\n",
       "      <td>2.666667</td>\n",
       "      <td>737272</td>\n",
       "      <td>1.125</td>\n",
       "      <td>1.600000</td>\n",
       "      <td>0.0</td>\n",
       "      <td>0.0</td>\n",
       "      <td>0.0</td>\n",
       "      <td>0.0</td>\n",
       "      <td>340934.0</td>\n",
       "      <td>340935.0</td>\n",
       "      <td>0.308607</td>\n",
       "      <td>2.0</td>\n",
       "    </tr>\n",
       "    <tr>\n",
       "      <th>4</th>\n",
       "      <td>32943407</td>\n",
       "      <td>6261257</td>\n",
       "      <td>4490956</td>\n",
       "      <td>0.0</td>\n",
       "      <td>1.0</td>\n",
       "      <td>0.000000</td>\n",
       "      <td>0</td>\n",
       "      <td>1.000</td>\n",
       "      <td>0.000000</td>\n",
       "      <td>0.0</td>\n",
       "      <td>0.0</td>\n",
       "      <td>0.0</td>\n",
       "      <td>0.0</td>\n",
       "      <td>684930.0</td>\n",
       "      <td>NaN</td>\n",
       "      <td>NaN</td>\n",
       "      <td>NaN</td>\n",
       "    </tr>\n",
       "    <tr>\n",
       "      <th>5</th>\n",
       "      <td>10185243</td>\n",
       "      <td>148455169</td>\n",
       "      <td>148455173</td>\n",
       "      <td>10.0</td>\n",
       "      <td>1.0</td>\n",
       "      <td>10.000000</td>\n",
       "      <td>737275</td>\n",
       "      <td>1.000</td>\n",
       "      <td>1.111111</td>\n",
       "      <td>0.0</td>\n",
       "      <td>0.0</td>\n",
       "      <td>0.0</td>\n",
       "      <td>0.0</td>\n",
       "      <td>NaN</td>\n",
       "      <td>443197.0</td>\n",
       "      <td>NaN</td>\n",
       "      <td>NaN</td>\n",
       "    </tr>\n",
       "    <tr>\n",
       "      <th>6</th>\n",
       "      <td>30552232</td>\n",
       "      <td>152440009</td>\n",
       "      <td>152440052</td>\n",
       "      <td>9.0</td>\n",
       "      <td>1.0</td>\n",
       "      <td>9.000000</td>\n",
       "      <td>737274</td>\n",
       "      <td>1.000</td>\n",
       "      <td>1.285714</td>\n",
       "      <td>0.0</td>\n",
       "      <td>0.0</td>\n",
       "      <td>0.0</td>\n",
       "      <td>0.0</td>\n",
       "      <td>36358.0</td>\n",
       "      <td>24179.0</td>\n",
       "      <td>0.000000</td>\n",
       "      <td>0.0</td>\n",
       "    </tr>\n",
       "  </tbody>\n",
       "</table>\n",
       "</div>"
      ],
      "text/plain": [
       "   clientid     itemid  jointitemid  view_cnt  to_cart_cnt        ctr  \\\n",
       "0   7833842   31499843    138176581      31.0          9.0   3.444444   \n",
       "2  19548158  147389610    148381589      24.0          9.0   2.666667   \n",
       "4  32943407    6261257      4490956       0.0          1.0   0.000000   \n",
       "5  10185243  148455169    148455173      10.0          1.0  10.000000   \n",
       "6  30552232  152440009    152440052       9.0          1.0   9.000000   \n",
       "\n",
       "   novelty_cnt  to_cart_day_avg_cnt  view_day_avg_cnt  to_cart_Lust_Day_cnt  \\\n",
       "0       737272                1.500          1.722222                   0.0   \n",
       "2       737272                1.125          1.600000                   0.0   \n",
       "4            0                1.000          0.000000                   0.0   \n",
       "5       737275                1.000          1.111111                   0.0   \n",
       "6       737274                1.000          1.285714                   0.0   \n",
       "\n",
       "   last_day_views  lastDayToCart/dayAvgToCart_cnt  lastDayView/dayAvgView_cnt  \\\n",
       "0             0.0                             0.0                         0.0   \n",
       "2             0.0                             0.0                         0.0   \n",
       "4             0.0                             0.0                         0.0   \n",
       "5             0.0                             0.0                         0.0   \n",
       "6             0.0                             0.0                         0.0   \n",
       "\n",
       "   item_cat  jointitem_cat  same_items_on_session_to_cart  \\\n",
       "0  442586.0       395289.0                       0.069338   \n",
       "2  340934.0       340935.0                       0.308607   \n",
       "4  684930.0            NaN                            NaN   \n",
       "5       NaN       443197.0                            NaN   \n",
       "6   36358.0        24179.0                       0.000000   \n",
       "\n",
       "   count_on_session_to_cart  \n",
       "0                       1.0  \n",
       "2                       2.0  \n",
       "4                       NaN  \n",
       "5                       NaN  \n",
       "6                       0.0  "
      ]
     },
     "execution_count": 59,
     "metadata": {},
     "output_type": "execute_result"
    }
   ],
   "source": [
    "train_tocart.head()"
   ]
  },
  {
   "cell_type": "code",
   "execution_count": 60,
   "metadata": {
    "colab": {
     "base_uri": "https://localhost:8080/",
     "height": 204
    },
    "colab_type": "code",
    "executionInfo": {
     "elapsed": 3228,
     "status": "ok",
     "timestamp": 1573088103350,
     "user": {
      "displayName": "Павел Парфенов",
      "photoUrl": "",
      "userId": "00456899921274964308"
     },
     "user_tz": -180
    },
    "id": "Un1fqizRId1l",
    "outputId": "a5d88691-3c19-4ce0-ffeb-9e56c3ce3fab"
   },
   "outputs": [
    {
     "data": {
      "text/html": [
       "<div>\n",
       "<style scoped>\n",
       "    .dataframe tbody tr th:only-of-type {\n",
       "        vertical-align: middle;\n",
       "    }\n",
       "\n",
       "    .dataframe tbody tr th {\n",
       "        vertical-align: top;\n",
       "    }\n",
       "\n",
       "    .dataframe thead th {\n",
       "        text-align: right;\n",
       "    }\n",
       "</style>\n",
       "<table border=\"1\" class=\"dataframe\">\n",
       "  <thead>\n",
       "    <tr style=\"text-align: right;\">\n",
       "      <th></th>\n",
       "      <th>clientid</th>\n",
       "      <th>itemid</th>\n",
       "      <th>jointitemid</th>\n",
       "      <th>label</th>\n",
       "      <th>timestamp</th>\n",
       "      <th>view_cnt</th>\n",
       "      <th>to_cart_cnt</th>\n",
       "      <th>ctr</th>\n",
       "      <th>novelty_cnt</th>\n",
       "      <th>to_cart_day_avg_cnt</th>\n",
       "      <th>view_day_avg_cnt</th>\n",
       "      <th>to_cart_Lust_Day_cnt</th>\n",
       "      <th>last_day_views</th>\n",
       "      <th>lastDayToCart/dayAvgToCart_cnt</th>\n",
       "      <th>lastDayView/dayAvgView_cnt</th>\n",
       "      <th>same_items_on_session_view</th>\n",
       "      <th>count_on_session_view</th>\n",
       "      <th>same_items_on_session_to_cart</th>\n",
       "      <th>count_on_session_to_cart</th>\n",
       "    </tr>\n",
       "  </thead>\n",
       "  <tbody>\n",
       "    <tr>\n",
       "      <th>0</th>\n",
       "      <td>7833842</td>\n",
       "      <td>31499843</td>\n",
       "      <td>138176581</td>\n",
       "      <td>1</td>\n",
       "      <td>2019-09-07 20:11:01</td>\n",
       "      <td>31.0</td>\n",
       "      <td>9.0</td>\n",
       "      <td>3.444444</td>\n",
       "      <td>737272</td>\n",
       "      <td>1.500</td>\n",
       "      <td>1.722222</td>\n",
       "      <td>0.0</td>\n",
       "      <td>0.0</td>\n",
       "      <td>0.0</td>\n",
       "      <td>0.0</td>\n",
       "      <td>0.000000</td>\n",
       "      <td>0.0</td>\n",
       "      <td>0.069338</td>\n",
       "      <td>1.0</td>\n",
       "    </tr>\n",
       "    <tr>\n",
       "      <th>2</th>\n",
       "      <td>19548158</td>\n",
       "      <td>147389610</td>\n",
       "      <td>148381589</td>\n",
       "      <td>0</td>\n",
       "      <td>2019-08-31 22:32:31</td>\n",
       "      <td>24.0</td>\n",
       "      <td>9.0</td>\n",
       "      <td>2.666667</td>\n",
       "      <td>737272</td>\n",
       "      <td>1.125</td>\n",
       "      <td>1.600000</td>\n",
       "      <td>0.0</td>\n",
       "      <td>0.0</td>\n",
       "      <td>0.0</td>\n",
       "      <td>0.0</td>\n",
       "      <td>0.160623</td>\n",
       "      <td>5.0</td>\n",
       "      <td>0.308607</td>\n",
       "      <td>2.0</td>\n",
       "    </tr>\n",
       "    <tr>\n",
       "      <th>4</th>\n",
       "      <td>32943407</td>\n",
       "      <td>6261257</td>\n",
       "      <td>4490956</td>\n",
       "      <td>0</td>\n",
       "      <td>2019-09-06 15:19:30</td>\n",
       "      <td>0.0</td>\n",
       "      <td>1.0</td>\n",
       "      <td>0.000000</td>\n",
       "      <td>0</td>\n",
       "      <td>1.000</td>\n",
       "      <td>0.000000</td>\n",
       "      <td>0.0</td>\n",
       "      <td>0.0</td>\n",
       "      <td>0.0</td>\n",
       "      <td>0.0</td>\n",
       "      <td>0.000000</td>\n",
       "      <td>0.0</td>\n",
       "      <td>NaN</td>\n",
       "      <td>NaN</td>\n",
       "    </tr>\n",
       "    <tr>\n",
       "      <th>5</th>\n",
       "      <td>10185243</td>\n",
       "      <td>148455169</td>\n",
       "      <td>148455173</td>\n",
       "      <td>0</td>\n",
       "      <td>2019-09-03 17:43:50</td>\n",
       "      <td>10.0</td>\n",
       "      <td>1.0</td>\n",
       "      <td>10.000000</td>\n",
       "      <td>737275</td>\n",
       "      <td>1.000</td>\n",
       "      <td>1.111111</td>\n",
       "      <td>0.0</td>\n",
       "      <td>0.0</td>\n",
       "      <td>0.0</td>\n",
       "      <td>0.0</td>\n",
       "      <td>0.000000</td>\n",
       "      <td>0.0</td>\n",
       "      <td>NaN</td>\n",
       "      <td>NaN</td>\n",
       "    </tr>\n",
       "    <tr>\n",
       "      <th>6</th>\n",
       "      <td>30552232</td>\n",
       "      <td>152440009</td>\n",
       "      <td>152440052</td>\n",
       "      <td>0</td>\n",
       "      <td>2019-09-01 07:07:59</td>\n",
       "      <td>9.0</td>\n",
       "      <td>1.0</td>\n",
       "      <td>9.000000</td>\n",
       "      <td>737274</td>\n",
       "      <td>1.000</td>\n",
       "      <td>1.285714</td>\n",
       "      <td>0.0</td>\n",
       "      <td>0.0</td>\n",
       "      <td>0.0</td>\n",
       "      <td>0.0</td>\n",
       "      <td>0.005222</td>\n",
       "      <td>1.0</td>\n",
       "      <td>0.000000</td>\n",
       "      <td>0.0</td>\n",
       "    </tr>\n",
       "  </tbody>\n",
       "</table>\n",
       "</div>"
      ],
      "text/plain": [
       "   clientid     itemid  jointitemid  label            timestamp  view_cnt  \\\n",
       "0   7833842   31499843    138176581      1  2019-09-07 20:11:01      31.0   \n",
       "2  19548158  147389610    148381589      0  2019-08-31 22:32:31      24.0   \n",
       "4  32943407    6261257      4490956      0  2019-09-06 15:19:30       0.0   \n",
       "5  10185243  148455169    148455173      0  2019-09-03 17:43:50      10.0   \n",
       "6  30552232  152440009    152440052      0  2019-09-01 07:07:59       9.0   \n",
       "\n",
       "   to_cart_cnt        ctr  novelty_cnt  to_cart_day_avg_cnt  view_day_avg_cnt  \\\n",
       "0          9.0   3.444444       737272                1.500          1.722222   \n",
       "2          9.0   2.666667       737272                1.125          1.600000   \n",
       "4          1.0   0.000000            0                1.000          0.000000   \n",
       "5          1.0  10.000000       737275                1.000          1.111111   \n",
       "6          1.0   9.000000       737274                1.000          1.285714   \n",
       "\n",
       "   to_cart_Lust_Day_cnt  last_day_views  lastDayToCart/dayAvgToCart_cnt  \\\n",
       "0                   0.0             0.0                             0.0   \n",
       "2                   0.0             0.0                             0.0   \n",
       "4                   0.0             0.0                             0.0   \n",
       "5                   0.0             0.0                             0.0   \n",
       "6                   0.0             0.0                             0.0   \n",
       "\n",
       "   lastDayView/dayAvgView_cnt  same_items_on_session_view  \\\n",
       "0                         0.0                    0.000000   \n",
       "2                         0.0                    0.160623   \n",
       "4                         0.0                    0.000000   \n",
       "5                         0.0                    0.000000   \n",
       "6                         0.0                    0.005222   \n",
       "\n",
       "   count_on_session_view  same_items_on_session_to_cart  \\\n",
       "0                    0.0                       0.069338   \n",
       "2                    5.0                       0.308607   \n",
       "4                    0.0                            NaN   \n",
       "5                    0.0                            NaN   \n",
       "6                    1.0                       0.000000   \n",
       "\n",
       "   count_on_session_to_cart  \n",
       "0                       1.0  \n",
       "2                       2.0  \n",
       "4                       NaN  \n",
       "5                       NaN  \n",
       "6                       0.0  "
      ]
     },
     "execution_count": 60,
     "metadata": {},
     "output_type": "execute_result"
    }
   ],
   "source": [
    "train = (\n",
    "    pd.merge(train_target, train_view[['itemid','jointitemid','same_items_on_session_view',\n",
    "                                       'count_on_session_view']], how='left').drop_duplicates()\n",
    "    )\n",
    "train = (\n",
    "    pd.merge(train, train_tocart[['itemid','jointitemid','same_items_on_session_to_cart',\n",
    "                                  'count_on_session_to_cart']], how='left').drop_duplicates()\n",
    "    )\n",
    "train.head()"
   ]
  },
  {
   "cell_type": "code",
   "execution_count": 61,
   "metadata": {
    "colab": {
     "base_uri": "https://localhost:8080/",
     "height": 394
    },
    "colab_type": "code",
    "executionInfo": {
     "elapsed": 505,
     "status": "ok",
     "timestamp": 1573088116540,
     "user": {
      "displayName": "Павел Парфенов",
      "photoUrl": "",
      "userId": "00456899921274964308"
     },
     "user_tz": -180
    },
    "id": "b3vTSvDGN4T8",
    "outputId": "088a4a30-e312-46d2-ae65-125c2467be77"
   },
   "outputs": [
    {
     "data": {
      "text/html": [
       "<div>\n",
       "<style scoped>\n",
       "    .dataframe tbody tr th:only-of-type {\n",
       "        vertical-align: middle;\n",
       "    }\n",
       "\n",
       "    .dataframe tbody tr th {\n",
       "        vertical-align: top;\n",
       "    }\n",
       "\n",
       "    .dataframe thead th {\n",
       "        text-align: right;\n",
       "    }\n",
       "</style>\n",
       "<table border=\"1\" class=\"dataframe\">\n",
       "  <thead>\n",
       "    <tr style=\"text-align: right;\">\n",
       "      <th></th>\n",
       "      <th>clientid</th>\n",
       "      <th>itemid</th>\n",
       "      <th>jointitemid</th>\n",
       "      <th>label</th>\n",
       "      <th>timestamp</th>\n",
       "      <th>view_cnt</th>\n",
       "      <th>to_cart_cnt</th>\n",
       "      <th>ctr</th>\n",
       "      <th>novelty_cnt</th>\n",
       "      <th>to_cart_day_avg_cnt</th>\n",
       "      <th>view_day_avg_cnt</th>\n",
       "      <th>to_cart_Lust_Day_cnt</th>\n",
       "      <th>last_day_views</th>\n",
       "      <th>lastDayToCart/dayAvgToCart_cnt</th>\n",
       "      <th>lastDayView/dayAvgView_cnt</th>\n",
       "      <th>same_items_on_session_view</th>\n",
       "      <th>count_on_session_view</th>\n",
       "      <th>same_items_on_session_to_cart</th>\n",
       "      <th>count_on_session_to_cart</th>\n",
       "    </tr>\n",
       "  </thead>\n",
       "  <tbody>\n",
       "    <tr>\n",
       "      <th>0</th>\n",
       "      <td>7833842</td>\n",
       "      <td>31499843</td>\n",
       "      <td>138176581</td>\n",
       "      <td>1</td>\n",
       "      <td>2019-09-07 20:11:01</td>\n",
       "      <td>31.0</td>\n",
       "      <td>9.0</td>\n",
       "      <td>3.444444</td>\n",
       "      <td>737272</td>\n",
       "      <td>1.500</td>\n",
       "      <td>1.722222</td>\n",
       "      <td>0.0</td>\n",
       "      <td>0.0</td>\n",
       "      <td>0.0</td>\n",
       "      <td>0.0</td>\n",
       "      <td>0.000000</td>\n",
       "      <td>0</td>\n",
       "      <td>0.069338</td>\n",
       "      <td>1</td>\n",
       "    </tr>\n",
       "    <tr>\n",
       "      <th>2</th>\n",
       "      <td>19548158</td>\n",
       "      <td>147389610</td>\n",
       "      <td>148381589</td>\n",
       "      <td>0</td>\n",
       "      <td>2019-08-31 22:32:31</td>\n",
       "      <td>24.0</td>\n",
       "      <td>9.0</td>\n",
       "      <td>2.666667</td>\n",
       "      <td>737272</td>\n",
       "      <td>1.125</td>\n",
       "      <td>1.600000</td>\n",
       "      <td>0.0</td>\n",
       "      <td>0.0</td>\n",
       "      <td>0.0</td>\n",
       "      <td>0.0</td>\n",
       "      <td>0.160623</td>\n",
       "      <td>5</td>\n",
       "      <td>0.308607</td>\n",
       "      <td>2</td>\n",
       "    </tr>\n",
       "    <tr>\n",
       "      <th>4</th>\n",
       "      <td>32943407</td>\n",
       "      <td>6261257</td>\n",
       "      <td>4490956</td>\n",
       "      <td>0</td>\n",
       "      <td>2019-09-06 15:19:30</td>\n",
       "      <td>0.0</td>\n",
       "      <td>1.0</td>\n",
       "      <td>0.000000</td>\n",
       "      <td>0</td>\n",
       "      <td>1.000</td>\n",
       "      <td>0.000000</td>\n",
       "      <td>0.0</td>\n",
       "      <td>0.0</td>\n",
       "      <td>0.0</td>\n",
       "      <td>0.0</td>\n",
       "      <td>0.000000</td>\n",
       "      <td>0</td>\n",
       "      <td>0.000000</td>\n",
       "      <td>0</td>\n",
       "    </tr>\n",
       "    <tr>\n",
       "      <th>5</th>\n",
       "      <td>10185243</td>\n",
       "      <td>148455169</td>\n",
       "      <td>148455173</td>\n",
       "      <td>0</td>\n",
       "      <td>2019-09-03 17:43:50</td>\n",
       "      <td>10.0</td>\n",
       "      <td>1.0</td>\n",
       "      <td>10.000000</td>\n",
       "      <td>737275</td>\n",
       "      <td>1.000</td>\n",
       "      <td>1.111111</td>\n",
       "      <td>0.0</td>\n",
       "      <td>0.0</td>\n",
       "      <td>0.0</td>\n",
       "      <td>0.0</td>\n",
       "      <td>0.000000</td>\n",
       "      <td>0</td>\n",
       "      <td>0.000000</td>\n",
       "      <td>0</td>\n",
       "    </tr>\n",
       "    <tr>\n",
       "      <th>6</th>\n",
       "      <td>30552232</td>\n",
       "      <td>152440009</td>\n",
       "      <td>152440052</td>\n",
       "      <td>0</td>\n",
       "      <td>2019-09-01 07:07:59</td>\n",
       "      <td>9.0</td>\n",
       "      <td>1.0</td>\n",
       "      <td>9.000000</td>\n",
       "      <td>737274</td>\n",
       "      <td>1.000</td>\n",
       "      <td>1.285714</td>\n",
       "      <td>0.0</td>\n",
       "      <td>0.0</td>\n",
       "      <td>0.0</td>\n",
       "      <td>0.0</td>\n",
       "      <td>0.005222</td>\n",
       "      <td>1</td>\n",
       "      <td>0.000000</td>\n",
       "      <td>0</td>\n",
       "    </tr>\n",
       "  </tbody>\n",
       "</table>\n",
       "</div>"
      ],
      "text/plain": [
       "   clientid     itemid  jointitemid  label            timestamp  view_cnt  \\\n",
       "0   7833842   31499843    138176581      1  2019-09-07 20:11:01      31.0   \n",
       "2  19548158  147389610    148381589      0  2019-08-31 22:32:31      24.0   \n",
       "4  32943407    6261257      4490956      0  2019-09-06 15:19:30       0.0   \n",
       "5  10185243  148455169    148455173      0  2019-09-03 17:43:50      10.0   \n",
       "6  30552232  152440009    152440052      0  2019-09-01 07:07:59       9.0   \n",
       "\n",
       "   to_cart_cnt        ctr  novelty_cnt  to_cart_day_avg_cnt  view_day_avg_cnt  \\\n",
       "0          9.0   3.444444       737272                1.500          1.722222   \n",
       "2          9.0   2.666667       737272                1.125          1.600000   \n",
       "4          1.0   0.000000            0                1.000          0.000000   \n",
       "5          1.0  10.000000       737275                1.000          1.111111   \n",
       "6          1.0   9.000000       737274                1.000          1.285714   \n",
       "\n",
       "   to_cart_Lust_Day_cnt  last_day_views  lastDayToCart/dayAvgToCart_cnt  \\\n",
       "0                   0.0             0.0                             0.0   \n",
       "2                   0.0             0.0                             0.0   \n",
       "4                   0.0             0.0                             0.0   \n",
       "5                   0.0             0.0                             0.0   \n",
       "6                   0.0             0.0                             0.0   \n",
       "\n",
       "   lastDayView/dayAvgView_cnt  same_items_on_session_view  \\\n",
       "0                         0.0                    0.000000   \n",
       "2                         0.0                    0.160623   \n",
       "4                         0.0                    0.000000   \n",
       "5                         0.0                    0.000000   \n",
       "6                         0.0                    0.005222   \n",
       "\n",
       "   count_on_session_view  same_items_on_session_to_cart  \\\n",
       "0                      0                       0.069338   \n",
       "2                      5                       0.308607   \n",
       "4                      0                       0.000000   \n",
       "5                      0                       0.000000   \n",
       "6                      1                       0.000000   \n",
       "\n",
       "   count_on_session_to_cart  \n",
       "0                         1  \n",
       "2                         2  \n",
       "4                         0  \n",
       "5                         0  \n",
       "6                         0  "
      ]
     },
     "execution_count": 61,
     "metadata": {},
     "output_type": "execute_result"
    }
   ],
   "source": [
    "train = train.fillna(0)\n",
    "train['count_on_session_view']=train['count_on_session_view'].astype('uint32')\n",
    "train['count_on_session_to_cart'] = train['count_on_session_to_cart'].astype('uint32')\n",
    "train.head()"
   ]
  },
  {
   "cell_type": "markdown",
   "metadata": {
    "colab_type": "text",
    "id": "lyNVzziBN6b4"
   },
   "source": [
    "## test\n",
    "test. Для проссмотров"
   ]
  },
  {
   "cell_type": "code",
   "execution_count": 62,
   "metadata": {
    "colab": {
     "base_uri": "https://localhost:8080/",
     "height": 204
    },
    "colab_type": "code",
    "executionInfo": {
     "elapsed": 2057,
     "status": "ok",
     "timestamp": 1573088217313,
     "user": {
      "displayName": "Павел Парфенов",
      "photoUrl": "",
      "userId": "00456899921274964308"
     },
     "user_tz": -180
    },
    "id": "ilLsJ4zAkaH0",
    "outputId": "e6224dfa-61d7-4a1b-ea60-4a3d389584e6"
   },
   "outputs": [],
   "source": [
    "test_target_view = test_target.drop(columns=['timestamp', 'label'])\n",
    "test_target_view['item_cat'] = test_target_view['itemid'].map(item_mapping_view.set_index('old').new)\n",
    "test_target_view['jointitem_cat'] = test_target_view['jointitemid'].map(item_mapping_view.set_index('old').new)"
   ]
  },
  {
   "cell_type": "markdown",
   "metadata": {},
   "source": [
    "test. Для картедов"
   ]
  },
  {
   "cell_type": "code",
   "execution_count": 63,
   "metadata": {
    "colab": {
     "base_uri": "https://localhost:8080/",
     "height": 187
    },
    "colab_type": "code",
    "executionInfo": {
     "elapsed": 1350,
     "status": "ok",
     "timestamp": 1573088221547,
     "user": {
      "displayName": "Павел Парфенов",
      "photoUrl": "",
      "userId": "00456899921274964308"
     },
     "user_tz": -180
    },
    "id": "TgNcu7jYlOJy",
    "outputId": "4f513a20-7ee1-4001-b11d-77651f65d0d7"
   },
   "outputs": [],
   "source": [
    "test_target_tocart = test_target.drop(columns=['timestamp', 'label'])\n",
    "test_target_tocart['item_cat'] = test_target_tocart['itemid'].map(item_mapping_tocart.set_index('old').new)\n",
    "test_target_tocart['jointitem_cat'] = test_target_tocart['jointitemid'].map(item_mapping_tocart.set_index('old').new)\n"
   ]
  },
  {
   "cell_type": "code",
   "execution_count": 64,
   "metadata": {
    "colab": {},
    "colab_type": "code",
    "id": "CnG0yzpwlvst"
   },
   "outputs": [],
   "source": [
    "test_view = count_same_score(test_target_view, item_session_view, 'view')"
   ]
  },
  {
   "cell_type": "code",
   "execution_count": 65,
   "metadata": {
    "colab": {},
    "colab_type": "code",
    "id": "9nLtBNptntGB"
   },
   "outputs": [],
   "source": [
    "test_tocart = count_same_score(test_target_tocart, item_session_tocart, 'to_cart')"
   ]
  },
  {
   "cell_type": "code",
   "execution_count": 66,
   "metadata": {
    "colab": {
     "base_uri": "https://localhost:8080/",
     "height": 204
    },
    "colab_type": "code",
    "executionInfo": {
     "elapsed": 793,
     "status": "ok",
     "timestamp": 1571834276034,
     "user": {
      "displayName": "Павел Парфенов",
      "photoUrl": "",
      "userId": "00456899921274964308"
     },
     "user_tz": -180
    },
    "id": "PJKvJnM2n1WQ",
    "outputId": "1555618b-5a6a-4389-b0d6-d7bdf8c490de"
   },
   "outputs": [
    {
     "data": {
      "text/html": [
       "<div>\n",
       "<style scoped>\n",
       "    .dataframe tbody tr th:only-of-type {\n",
       "        vertical-align: middle;\n",
       "    }\n",
       "\n",
       "    .dataframe tbody tr th {\n",
       "        vertical-align: top;\n",
       "    }\n",
       "\n",
       "    .dataframe thead th {\n",
       "        text-align: right;\n",
       "    }\n",
       "</style>\n",
       "<table border=\"1\" class=\"dataframe\">\n",
       "  <thead>\n",
       "    <tr style=\"text-align: right;\">\n",
       "      <th></th>\n",
       "      <th>clientid</th>\n",
       "      <th>itemid</th>\n",
       "      <th>jointitemid</th>\n",
       "      <th>view_cnt</th>\n",
       "      <th>to_cart_cnt</th>\n",
       "      <th>ctr</th>\n",
       "      <th>novelty_cnt</th>\n",
       "      <th>to_cart_day_avg_cnt</th>\n",
       "      <th>view_day_avg_cnt</th>\n",
       "      <th>to_cart_Lust_Day_cnt</th>\n",
       "      <th>last_day_views</th>\n",
       "      <th>lastDayToCart/dayAvgToCart_cnt</th>\n",
       "      <th>lastDayView/dayAvgView_cnt</th>\n",
       "      <th>item_cat</th>\n",
       "      <th>jointitem_cat</th>\n",
       "      <th>same_items_on_session_view</th>\n",
       "      <th>count_on_session_view</th>\n",
       "    </tr>\n",
       "  </thead>\n",
       "  <tbody>\n",
       "    <tr>\n",
       "      <th>0</th>\n",
       "      <td>8081929</td>\n",
       "      <td>152898248</td>\n",
       "      <td>152875664</td>\n",
       "      <td>10.0</td>\n",
       "      <td>2.0</td>\n",
       "      <td>5.000000</td>\n",
       "      <td>737276</td>\n",
       "      <td>1.000000</td>\n",
       "      <td>2.000000</td>\n",
       "      <td>0.0</td>\n",
       "      <td>0.0</td>\n",
       "      <td>0.000000</td>\n",
       "      <td>0.000000</td>\n",
       "      <td>281044.0</td>\n",
       "      <td>441643.0</td>\n",
       "      <td>0.000000</td>\n",
       "      <td>0.0</td>\n",
       "    </tr>\n",
       "    <tr>\n",
       "      <th>1</th>\n",
       "      <td>33378638</td>\n",
       "      <td>144847078</td>\n",
       "      <td>140715321</td>\n",
       "      <td>211.0</td>\n",
       "      <td>19.0</td>\n",
       "      <td>11.105263</td>\n",
       "      <td>737272</td>\n",
       "      <td>1.727273</td>\n",
       "      <td>7.814815</td>\n",
       "      <td>1.0</td>\n",
       "      <td>1.0</td>\n",
       "      <td>0.578947</td>\n",
       "      <td>0.127962</td>\n",
       "      <td>3446.0</td>\n",
       "      <td>250078.0</td>\n",
       "      <td>0.023322</td>\n",
       "      <td>7.0</td>\n",
       "    </tr>\n",
       "    <tr>\n",
       "      <th>2</th>\n",
       "      <td>36237195</td>\n",
       "      <td>149717596</td>\n",
       "      <td>149390783</td>\n",
       "      <td>282.0</td>\n",
       "      <td>20.0</td>\n",
       "      <td>14.100000</td>\n",
       "      <td>737272</td>\n",
       "      <td>1.666667</td>\n",
       "      <td>9.096774</td>\n",
       "      <td>1.0</td>\n",
       "      <td>1.0</td>\n",
       "      <td>0.600000</td>\n",
       "      <td>0.109929</td>\n",
       "      <td>127375.0</td>\n",
       "      <td>62292.0</td>\n",
       "      <td>0.247489</td>\n",
       "      <td>61.0</td>\n",
       "    </tr>\n",
       "    <tr>\n",
       "      <th>4</th>\n",
       "      <td>4190203</td>\n",
       "      <td>141835810</td>\n",
       "      <td>147130456</td>\n",
       "      <td>892.0</td>\n",
       "      <td>210.0</td>\n",
       "      <td>4.247619</td>\n",
       "      <td>737272</td>\n",
       "      <td>6.774194</td>\n",
       "      <td>28.774194</td>\n",
       "      <td>2.0</td>\n",
       "      <td>2.0</td>\n",
       "      <td>0.295238</td>\n",
       "      <td>0.069507</td>\n",
       "      <td>111117.0</td>\n",
       "      <td>54691.0</td>\n",
       "      <td>0.000000</td>\n",
       "      <td>0.0</td>\n",
       "    </tr>\n",
       "    <tr>\n",
       "      <th>5</th>\n",
       "      <td>35362099</td>\n",
       "      <td>24560937</td>\n",
       "      <td>155457711</td>\n",
       "      <td>0.0</td>\n",
       "      <td>2.0</td>\n",
       "      <td>0.000000</td>\n",
       "      <td>0</td>\n",
       "      <td>1.000000</td>\n",
       "      <td>0.000000</td>\n",
       "      <td>0.0</td>\n",
       "      <td>0.0</td>\n",
       "      <td>0.000000</td>\n",
       "      <td>0.000000</td>\n",
       "      <td>796611.0</td>\n",
       "      <td>NaN</td>\n",
       "      <td>NaN</td>\n",
       "      <td>NaN</td>\n",
       "    </tr>\n",
       "  </tbody>\n",
       "</table>\n",
       "</div>"
      ],
      "text/plain": [
       "   clientid     itemid  jointitemid  view_cnt  to_cart_cnt        ctr  \\\n",
       "0   8081929  152898248    152875664      10.0          2.0   5.000000   \n",
       "1  33378638  144847078    140715321     211.0         19.0  11.105263   \n",
       "2  36237195  149717596    149390783     282.0         20.0  14.100000   \n",
       "4   4190203  141835810    147130456     892.0        210.0   4.247619   \n",
       "5  35362099   24560937    155457711       0.0          2.0   0.000000   \n",
       "\n",
       "   novelty_cnt  to_cart_day_avg_cnt  view_day_avg_cnt  to_cart_Lust_Day_cnt  \\\n",
       "0       737276             1.000000          2.000000                   0.0   \n",
       "1       737272             1.727273          7.814815                   1.0   \n",
       "2       737272             1.666667          9.096774                   1.0   \n",
       "4       737272             6.774194         28.774194                   2.0   \n",
       "5            0             1.000000          0.000000                   0.0   \n",
       "\n",
       "   last_day_views  lastDayToCart/dayAvgToCart_cnt  lastDayView/dayAvgView_cnt  \\\n",
       "0             0.0                        0.000000                    0.000000   \n",
       "1             1.0                        0.578947                    0.127962   \n",
       "2             1.0                        0.600000                    0.109929   \n",
       "4             2.0                        0.295238                    0.069507   \n",
       "5             0.0                        0.000000                    0.000000   \n",
       "\n",
       "   item_cat  jointitem_cat  same_items_on_session_view  count_on_session_view  \n",
       "0  281044.0       441643.0                    0.000000                    0.0  \n",
       "1    3446.0       250078.0                    0.023322                    7.0  \n",
       "2  127375.0        62292.0                    0.247489                   61.0  \n",
       "4  111117.0        54691.0                    0.000000                    0.0  \n",
       "5  796611.0            NaN                         NaN                    NaN  "
      ]
     },
     "execution_count": 66,
     "metadata": {},
     "output_type": "execute_result"
    }
   ],
   "source": [
    "test_view.head()"
   ]
  },
  {
   "cell_type": "code",
   "execution_count": 67,
   "metadata": {
    "colab": {},
    "colab_type": "code",
    "id": "g-uRnx0wn9Jm"
   },
   "outputs": [],
   "source": [
    "test = (\n",
    "    pd.merge(test_target, test_view[['itemid','jointitemid','same_items_on_session_view','count_on_session_view']],\n",
    "             how='left').drop_duplicates()\n",
    "    )\n",
    "test = (\n",
    "    pd.merge(test, test_tocart[['itemid','jointitemid','same_items_on_session_to_cart','count_on_session_to_cart']],\n",
    "             how='left').drop_duplicates()\n",
    ")"
   ]
  },
  {
   "cell_type": "code",
   "execution_count": 68,
   "metadata": {
    "colab": {},
    "colab_type": "code",
    "id": "RU-TzCRPX90S"
   },
   "outputs": [],
   "source": [
    "test = test.fillna(0)\n",
    "test['count_on_session_view']=test['count_on_session_view'].astype('uint32')\n",
    "test['count_on_session_to_cart'] = test['count_on_session_to_cart'].astype('uint32')"
   ]
  },
  {
   "cell_type": "code",
   "execution_count": 69,
   "metadata": {
    "colab": {
     "base_uri": "https://localhost:8080/",
     "height": 394
    },
    "colab_type": "code",
    "executionInfo": {
     "elapsed": 563,
     "status": "ok",
     "timestamp": 1573090509611,
     "user": {
      "displayName": "Павел Парфенов",
      "photoUrl": "",
      "userId": "00456899921274964308"
     },
     "user_tz": -180
    },
    "id": "jGWgFdelgCRt",
    "outputId": "cb558c63-6feb-432f-dc9d-5e73bf210351"
   },
   "outputs": [
    {
     "data": {
      "text/html": [
       "<div>\n",
       "<style scoped>\n",
       "    .dataframe tbody tr th:only-of-type {\n",
       "        vertical-align: middle;\n",
       "    }\n",
       "\n",
       "    .dataframe tbody tr th {\n",
       "        vertical-align: top;\n",
       "    }\n",
       "\n",
       "    .dataframe thead th {\n",
       "        text-align: right;\n",
       "    }\n",
       "</style>\n",
       "<table border=\"1\" class=\"dataframe\">\n",
       "  <thead>\n",
       "    <tr style=\"text-align: right;\">\n",
       "      <th></th>\n",
       "      <th>clientid</th>\n",
       "      <th>itemid</th>\n",
       "      <th>jointitemid</th>\n",
       "      <th>label</th>\n",
       "      <th>timestamp</th>\n",
       "      <th>view_cnt</th>\n",
       "      <th>to_cart_cnt</th>\n",
       "      <th>ctr</th>\n",
       "      <th>novelty_cnt</th>\n",
       "      <th>to_cart_day_avg_cnt</th>\n",
       "      <th>view_day_avg_cnt</th>\n",
       "      <th>to_cart_Lust_Day_cnt</th>\n",
       "      <th>last_day_views</th>\n",
       "      <th>lastDayToCart/dayAvgToCart_cnt</th>\n",
       "      <th>lastDayView/dayAvgView_cnt</th>\n",
       "      <th>same_items_on_session_view</th>\n",
       "      <th>count_on_session_view</th>\n",
       "      <th>same_items_on_session_to_cart</th>\n",
       "      <th>count_on_session_to_cart</th>\n",
       "    </tr>\n",
       "  </thead>\n",
       "  <tbody>\n",
       "    <tr>\n",
       "      <th>0</th>\n",
       "      <td>8081929</td>\n",
       "      <td>152898248</td>\n",
       "      <td>152875664</td>\n",
       "      <td>0</td>\n",
       "      <td>2019-09-06 18:57:23</td>\n",
       "      <td>10.0</td>\n",
       "      <td>2.0</td>\n",
       "      <td>5.000000</td>\n",
       "      <td>737276</td>\n",
       "      <td>1.000000</td>\n",
       "      <td>2.000000</td>\n",
       "      <td>0.0</td>\n",
       "      <td>0.0</td>\n",
       "      <td>0.000000</td>\n",
       "      <td>0.000000</td>\n",
       "      <td>0.000000</td>\n",
       "      <td>0</td>\n",
       "      <td>0.000000</td>\n",
       "      <td>0</td>\n",
       "    </tr>\n",
       "    <tr>\n",
       "      <th>1</th>\n",
       "      <td>33378638</td>\n",
       "      <td>144847078</td>\n",
       "      <td>140715321</td>\n",
       "      <td>0</td>\n",
       "      <td>2019-09-02 07:09:31</td>\n",
       "      <td>211.0</td>\n",
       "      <td>19.0</td>\n",
       "      <td>11.105263</td>\n",
       "      <td>737272</td>\n",
       "      <td>1.727273</td>\n",
       "      <td>7.814815</td>\n",
       "      <td>1.0</td>\n",
       "      <td>1.0</td>\n",
       "      <td>0.578947</td>\n",
       "      <td>0.127962</td>\n",
       "      <td>0.023322</td>\n",
       "      <td>7</td>\n",
       "      <td>0.000000</td>\n",
       "      <td>0</td>\n",
       "    </tr>\n",
       "    <tr>\n",
       "      <th>2</th>\n",
       "      <td>36237195</td>\n",
       "      <td>149717596</td>\n",
       "      <td>149390783</td>\n",
       "      <td>0</td>\n",
       "      <td>2019-09-01 07:14:01</td>\n",
       "      <td>282.0</td>\n",
       "      <td>20.0</td>\n",
       "      <td>14.100000</td>\n",
       "      <td>737272</td>\n",
       "      <td>1.666667</td>\n",
       "      <td>9.096774</td>\n",
       "      <td>1.0</td>\n",
       "      <td>1.0</td>\n",
       "      <td>0.600000</td>\n",
       "      <td>0.109929</td>\n",
       "      <td>0.247489</td>\n",
       "      <td>61</td>\n",
       "      <td>0.139573</td>\n",
       "      <td>3</td>\n",
       "    </tr>\n",
       "    <tr>\n",
       "      <th>4</th>\n",
       "      <td>4190203</td>\n",
       "      <td>141835810</td>\n",
       "      <td>147130456</td>\n",
       "      <td>0</td>\n",
       "      <td>2019-09-06 07:18:33</td>\n",
       "      <td>892.0</td>\n",
       "      <td>210.0</td>\n",
       "      <td>4.247619</td>\n",
       "      <td>737272</td>\n",
       "      <td>6.774194</td>\n",
       "      <td>28.774194</td>\n",
       "      <td>2.0</td>\n",
       "      <td>2.0</td>\n",
       "      <td>0.295238</td>\n",
       "      <td>0.069507</td>\n",
       "      <td>0.000000</td>\n",
       "      <td>0</td>\n",
       "      <td>0.011117</td>\n",
       "      <td>1</td>\n",
       "    </tr>\n",
       "    <tr>\n",
       "      <th>5</th>\n",
       "      <td>35362099</td>\n",
       "      <td>24560937</td>\n",
       "      <td>155457711</td>\n",
       "      <td>0</td>\n",
       "      <td>2019-09-05 17:16:28</td>\n",
       "      <td>0.0</td>\n",
       "      <td>2.0</td>\n",
       "      <td>0.000000</td>\n",
       "      <td>0</td>\n",
       "      <td>1.000000</td>\n",
       "      <td>0.000000</td>\n",
       "      <td>0.0</td>\n",
       "      <td>0.0</td>\n",
       "      <td>0.000000</td>\n",
       "      <td>0.000000</td>\n",
       "      <td>0.000000</td>\n",
       "      <td>0</td>\n",
       "      <td>0.000000</td>\n",
       "      <td>0</td>\n",
       "    </tr>\n",
       "  </tbody>\n",
       "</table>\n",
       "</div>"
      ],
      "text/plain": [
       "   clientid     itemid  jointitemid  label            timestamp  view_cnt  \\\n",
       "0   8081929  152898248    152875664      0  2019-09-06 18:57:23      10.0   \n",
       "1  33378638  144847078    140715321      0  2019-09-02 07:09:31     211.0   \n",
       "2  36237195  149717596    149390783      0  2019-09-01 07:14:01     282.0   \n",
       "4   4190203  141835810    147130456      0  2019-09-06 07:18:33     892.0   \n",
       "5  35362099   24560937    155457711      0  2019-09-05 17:16:28       0.0   \n",
       "\n",
       "   to_cart_cnt        ctr  novelty_cnt  to_cart_day_avg_cnt  view_day_avg_cnt  \\\n",
       "0          2.0   5.000000       737276             1.000000          2.000000   \n",
       "1         19.0  11.105263       737272             1.727273          7.814815   \n",
       "2         20.0  14.100000       737272             1.666667          9.096774   \n",
       "4        210.0   4.247619       737272             6.774194         28.774194   \n",
       "5          2.0   0.000000            0             1.000000          0.000000   \n",
       "\n",
       "   to_cart_Lust_Day_cnt  last_day_views  lastDayToCart/dayAvgToCart_cnt  \\\n",
       "0                   0.0             0.0                        0.000000   \n",
       "1                   1.0             1.0                        0.578947   \n",
       "2                   1.0             1.0                        0.600000   \n",
       "4                   2.0             2.0                        0.295238   \n",
       "5                   0.0             0.0                        0.000000   \n",
       "\n",
       "   lastDayView/dayAvgView_cnt  same_items_on_session_view  \\\n",
       "0                    0.000000                    0.000000   \n",
       "1                    0.127962                    0.023322   \n",
       "2                    0.109929                    0.247489   \n",
       "4                    0.069507                    0.000000   \n",
       "5                    0.000000                    0.000000   \n",
       "\n",
       "   count_on_session_view  same_items_on_session_to_cart  \\\n",
       "0                      0                       0.000000   \n",
       "1                      7                       0.000000   \n",
       "2                     61                       0.139573   \n",
       "4                      0                       0.011117   \n",
       "5                      0                       0.000000   \n",
       "\n",
       "   count_on_session_to_cart  \n",
       "0                         0  \n",
       "1                         0  \n",
       "2                         3  \n",
       "4                         1  \n",
       "5                         0  "
      ]
     },
     "execution_count": 69,
     "metadata": {},
     "output_type": "execute_result"
    }
   ],
   "source": [
    "test.head()"
   ]
  },
  {
   "cell_type": "markdown",
   "metadata": {
    "colab_type": "text",
    "id": "OdzyTe1tghFU"
   },
   "source": [
    "## Запись в файл"
   ]
  },
  {
   "cell_type": "code",
   "execution_count": 70,
   "metadata": {
    "colab": {},
    "colab_type": "code",
    "id": "PuMIHb3qXwaf"
   },
   "outputs": [],
   "source": [
    "test.to_csv(\"data/test_with_scores.csv\", index=False)\n",
    "train.to_csv(\"data/train_with_scores.csv\", index=False)"
   ]
  },
  {
   "cell_type": "code",
   "execution_count": 0,
   "metadata": {
    "colab": {},
    "colab_type": "code",
    "id": "jE45cAV9gHkS"
   },
   "outputs": [],
   "source": []
  }
 ],
 "metadata": {
  "colab": {
   "collapsed_sections": [],
   "name": "session_same.ipynb",
   "provenance": []
  },
  "kernelspec": {
   "display_name": "Python 3",
   "language": "python",
   "name": "python3"
  },
  "language_info": {
   "codemirror_mode": {
    "name": "ipython",
    "version": 3
   },
   "file_extension": ".py",
   "mimetype": "text/x-python",
   "name": "python",
   "nbconvert_exporter": "python",
   "pygments_lexer": "ipython3",
   "version": "3.7.3"
  }
 },
 "nbformat": 4,
 "nbformat_minor": 1
}
