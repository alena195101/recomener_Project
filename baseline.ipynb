{
 "cells": [
  {
   "cell_type": "markdown",
   "metadata": {},
   "source": [
    "## Import section"
   ]
  },
  {
   "cell_type": "code",
   "execution_count": 1,
   "metadata": {},
   "outputs": [],
   "source": [
    "import pandas as pd\n",
    "import numpy as np\n",
    "import datetime as dt"
   ]
  },
  {
   "cell_type": "markdown",
   "metadata": {},
   "source": [
    "## Read data"
   ]
  },
  {
   "cell_type": "code",
   "execution_count": 2,
   "metadata": {},
   "outputs": [
    {
     "data": {
      "text/html": [
       "<div>\n",
       "<style scoped>\n",
       "    .dataframe tbody tr th:only-of-type {\n",
       "        vertical-align: middle;\n",
       "    }\n",
       "\n",
       "    .dataframe tbody tr th {\n",
       "        vertical-align: top;\n",
       "    }\n",
       "\n",
       "    .dataframe thead th {\n",
       "        text-align: right;\n",
       "    }\n",
       "</style>\n",
       "<table border=\"1\" class=\"dataframe\">\n",
       "  <thead>\n",
       "    <tr style=\"text-align: right;\">\n",
       "      <th></th>\n",
       "      <th>clientid</th>\n",
       "      <th>itemid</th>\n",
       "      <th>action_type</th>\n",
       "      <th>timestamp</th>\n",
       "    </tr>\n",
       "  </thead>\n",
       "  <tbody>\n",
       "    <tr>\n",
       "      <th>0</th>\n",
       "      <td>179153</td>\n",
       "      <td>135391270</td>\n",
       "      <td>view</td>\n",
       "      <td>2019-08-06 15:14:45</td>\n",
       "    </tr>\n",
       "    <tr>\n",
       "      <th>1</th>\n",
       "      <td>179153</td>\n",
       "      <td>135391272</td>\n",
       "      <td>view</td>\n",
       "      <td>2019-08-06 15:16:29</td>\n",
       "    </tr>\n",
       "    <tr>\n",
       "      <th>2</th>\n",
       "      <td>179153</td>\n",
       "      <td>135391270</td>\n",
       "      <td>view</td>\n",
       "      <td>2019-08-08 09:07:29</td>\n",
       "    </tr>\n",
       "    <tr>\n",
       "      <th>3</th>\n",
       "      <td>179153</td>\n",
       "      <td>142132354</td>\n",
       "      <td>view</td>\n",
       "      <td>2019-08-20 17:59:58</td>\n",
       "    </tr>\n",
       "    <tr>\n",
       "      <th>4</th>\n",
       "      <td>179153</td>\n",
       "      <td>140487634</td>\n",
       "      <td>view</td>\n",
       "      <td>2019-08-23 16:46:39</td>\n",
       "    </tr>\n",
       "  </tbody>\n",
       "</table>\n",
       "</div>"
      ],
      "text/plain": [
       "   clientid     itemid action_type           timestamp\n",
       "0    179153  135391270        view 2019-08-06 15:14:45\n",
       "1    179153  135391272        view 2019-08-06 15:16:29\n",
       "2    179153  135391270        view 2019-08-08 09:07:29\n",
       "3    179153  142132354        view 2019-08-20 17:59:58\n",
       "4    179153  140487634        view 2019-08-23 16:46:39"
      ]
     },
     "execution_count": 2,
     "metadata": {},
     "output_type": "execute_result"
    }
   ],
   "source": [
    "# пользовательские действия\n",
    "\n",
    "user_actions = pd.read_parquet('data/user_actions_august.parquet')\n",
    "user_actions.head()"
   ]
  },
  {
   "cell_type": "code",
   "execution_count": 3,
   "metadata": {},
   "outputs": [
    {
     "data": {
      "text/html": [
       "<div>\n",
       "<style scoped>\n",
       "    .dataframe tbody tr th:only-of-type {\n",
       "        vertical-align: middle;\n",
       "    }\n",
       "\n",
       "    .dataframe tbody tr th {\n",
       "        vertical-align: top;\n",
       "    }\n",
       "\n",
       "    .dataframe thead th {\n",
       "        text-align: right;\n",
       "    }\n",
       "</style>\n",
       "<table border=\"1\" class=\"dataframe\">\n",
       "  <thead>\n",
       "    <tr style=\"text-align: right;\">\n",
       "      <th></th>\n",
       "      <th>clientid</th>\n",
       "      <th>itemid</th>\n",
       "      <th>action_type</th>\n",
       "      <th>timestamp</th>\n",
       "    </tr>\n",
       "  </thead>\n",
       "  <tbody>\n",
       "    <tr>\n",
       "      <th>0</th>\n",
       "      <td>179153</td>\n",
       "      <td>135391270</td>\n",
       "      <td>False</td>\n",
       "      <td>737277</td>\n",
       "    </tr>\n",
       "    <tr>\n",
       "      <th>1</th>\n",
       "      <td>179153</td>\n",
       "      <td>135391272</td>\n",
       "      <td>False</td>\n",
       "      <td>737277</td>\n",
       "    </tr>\n",
       "    <tr>\n",
       "      <th>2</th>\n",
       "      <td>179153</td>\n",
       "      <td>135391270</td>\n",
       "      <td>False</td>\n",
       "      <td>737279</td>\n",
       "    </tr>\n",
       "    <tr>\n",
       "      <th>3</th>\n",
       "      <td>179153</td>\n",
       "      <td>142132354</td>\n",
       "      <td>False</td>\n",
       "      <td>737291</td>\n",
       "    </tr>\n",
       "    <tr>\n",
       "      <th>4</th>\n",
       "      <td>179153</td>\n",
       "      <td>140487634</td>\n",
       "      <td>False</td>\n",
       "      <td>737294</td>\n",
       "    </tr>\n",
       "  </tbody>\n",
       "</table>\n",
       "</div>"
      ],
      "text/plain": [
       "   clientid     itemid  action_type  timestamp\n",
       "0    179153  135391270        False     737277\n",
       "1    179153  135391272        False     737277\n",
       "2    179153  135391270        False     737279\n",
       "3    179153  142132354        False     737291\n",
       "4    179153  140487634        False     737294"
      ]
     },
     "execution_count": 3,
     "metadata": {},
     "output_type": "execute_result"
    }
   ],
   "source": [
    "user_actions['clientid'] = user_actions['clientid'].astype('uint32')\n",
    "user_actions['itemid'] = user_actions['itemid'].astype('uint32')\n",
    "user_actions['action_type'] = user_actions['action_type'].map({'view': 0, 'to_cart': 1}).astype('bool')\n",
    "user_actions['timestamp'] = user_actions['timestamp'].dt.date.apply(dt.datetime.toordinal).astype('uint32')\n",
    "\n",
    "user_actions.head()"
   ]
  },
  {
   "cell_type": "code",
   "execution_count": 4,
   "metadata": {},
   "outputs": [
    {
     "data": {
      "text/plain": [
       "False    48845454\n",
       "True      8739766\n",
       "Name: action_type, dtype: int64"
      ]
     },
     "execution_count": 4,
     "metadata": {},
     "output_type": "execute_result"
    }
   ],
   "source": [
    "user_actions['action_type'].value_counts()"
   ]
  },
  {
   "cell_type": "code",
   "execution_count": 5,
   "metadata": {},
   "outputs": [
    {
     "data": {
      "text/plain": [
       "1062707"
      ]
     },
     "execution_count": 5,
     "metadata": {},
     "output_type": "execute_result"
    }
   ],
   "source": [
    "user_actions.clientid.nunique()"
   ]
  },
  {
   "cell_type": "code",
   "execution_count": 4,
   "metadata": {},
   "outputs": [
    {
     "data": {
      "text/html": [
       "<div>\n",
       "<style scoped>\n",
       "    .dataframe tbody tr th:only-of-type {\n",
       "        vertical-align: middle;\n",
       "    }\n",
       "\n",
       "    .dataframe tbody tr th {\n",
       "        vertical-align: top;\n",
       "    }\n",
       "\n",
       "    .dataframe thead th {\n",
       "        text-align: right;\n",
       "    }\n",
       "</style>\n",
       "<table border=\"1\" class=\"dataframe\">\n",
       "  <thead>\n",
       "    <tr style=\"text-align: right;\">\n",
       "      <th></th>\n",
       "      <th>clientid</th>\n",
       "      <th>itemid</th>\n",
       "      <th>jointitemid</th>\n",
       "      <th>label</th>\n",
       "      <th>timestamp</th>\n",
       "    </tr>\n",
       "  </thead>\n",
       "  <tbody>\n",
       "    <tr>\n",
       "      <th>0</th>\n",
       "      <td>7833842</td>\n",
       "      <td>31499843</td>\n",
       "      <td>138176581</td>\n",
       "      <td>1</td>\n",
       "      <td>2019-09-07 20:11:01</td>\n",
       "    </tr>\n",
       "    <tr>\n",
       "      <th>1</th>\n",
       "      <td>19548158</td>\n",
       "      <td>147389610</td>\n",
       "      <td>148381589</td>\n",
       "      <td>0</td>\n",
       "      <td>2019-08-31 22:32:31</td>\n",
       "    </tr>\n",
       "    <tr>\n",
       "      <th>2</th>\n",
       "      <td>32943407</td>\n",
       "      <td>6261257</td>\n",
       "      <td>4490956</td>\n",
       "      <td>0</td>\n",
       "      <td>2019-09-06 15:19:30</td>\n",
       "    </tr>\n",
       "    <tr>\n",
       "      <th>3</th>\n",
       "      <td>10185243</td>\n",
       "      <td>148455169</td>\n",
       "      <td>148455173</td>\n",
       "      <td>0</td>\n",
       "      <td>2019-09-03 17:43:50</td>\n",
       "    </tr>\n",
       "    <tr>\n",
       "      <th>4</th>\n",
       "      <td>30552232</td>\n",
       "      <td>152440009</td>\n",
       "      <td>152440052</td>\n",
       "      <td>0</td>\n",
       "      <td>2019-09-01 07:07:59</td>\n",
       "    </tr>\n",
       "  </tbody>\n",
       "</table>\n",
       "</div>"
      ],
      "text/plain": [
       "   clientid     itemid  jointitemid  label            timestamp\n",
       "0   7833842   31499843    138176581      1  2019-09-07 20:11:01\n",
       "1  19548158  147389610    148381589      0  2019-08-31 22:32:31\n",
       "2  32943407    6261257      4490956      0  2019-09-06 15:19:30\n",
       "3  10185243  148455169    148455173      0  2019-09-03 17:43:50\n",
       "4  30552232  152440009    152440052      0  2019-09-01 07:07:59"
      ]
     },
     "execution_count": 4,
     "metadata": {},
     "output_type": "execute_result"
    }
   ],
   "source": [
    "# target данные для обучения\n",
    "\n",
    "train_target = pd.read_csv('data/target_train.csv')\n",
    "train_target.head()"
   ]
  },
  {
   "cell_type": "code",
   "execution_count": 5,
   "metadata": {},
   "outputs": [
    {
     "data": {
      "text/html": [
       "<div>\n",
       "<style scoped>\n",
       "    .dataframe tbody tr th:only-of-type {\n",
       "        vertical-align: middle;\n",
       "    }\n",
       "\n",
       "    .dataframe tbody tr th {\n",
       "        vertical-align: top;\n",
       "    }\n",
       "\n",
       "    .dataframe thead th {\n",
       "        text-align: right;\n",
       "    }\n",
       "</style>\n",
       "<table border=\"1\" class=\"dataframe\">\n",
       "  <thead>\n",
       "    <tr style=\"text-align: right;\">\n",
       "      <th></th>\n",
       "      <th>clientid</th>\n",
       "      <th>itemid</th>\n",
       "      <th>jointitemid</th>\n",
       "      <th>label</th>\n",
       "    </tr>\n",
       "  </thead>\n",
       "  <tbody>\n",
       "    <tr>\n",
       "      <th>0</th>\n",
       "      <td>7833842</td>\n",
       "      <td>31499843</td>\n",
       "      <td>138176581</td>\n",
       "      <td>1</td>\n",
       "    </tr>\n",
       "    <tr>\n",
       "      <th>1</th>\n",
       "      <td>19548158</td>\n",
       "      <td>147389610</td>\n",
       "      <td>148381589</td>\n",
       "      <td>0</td>\n",
       "    </tr>\n",
       "    <tr>\n",
       "      <th>2</th>\n",
       "      <td>32943407</td>\n",
       "      <td>6261257</td>\n",
       "      <td>4490956</td>\n",
       "      <td>0</td>\n",
       "    </tr>\n",
       "    <tr>\n",
       "      <th>3</th>\n",
       "      <td>10185243</td>\n",
       "      <td>148455169</td>\n",
       "      <td>148455173</td>\n",
       "      <td>0</td>\n",
       "    </tr>\n",
       "    <tr>\n",
       "      <th>4</th>\n",
       "      <td>30552232</td>\n",
       "      <td>152440009</td>\n",
       "      <td>152440052</td>\n",
       "      <td>0</td>\n",
       "    </tr>\n",
       "  </tbody>\n",
       "</table>\n",
       "</div>"
      ],
      "text/plain": [
       "   clientid     itemid  jointitemid  label\n",
       "0   7833842   31499843    138176581      1\n",
       "1  19548158  147389610    148381589      0\n",
       "2  32943407    6261257      4490956      0\n",
       "3  10185243  148455169    148455173      0\n",
       "4  30552232  152440009    152440052      0"
      ]
     },
     "execution_count": 5,
     "metadata": {},
     "output_type": "execute_result"
    }
   ],
   "source": [
    "train_target['clientid'] = train_target['clientid'].astype('uint32')\n",
    "train_target['itemid'] = train_target['itemid'].astype('uint32')\n",
    "train_target['jointitemid'] = train_target['jointitemid'].astype('uint32')\n",
    "train_target['label'] = train_target['label'].astype('int8')\n",
    "train_target = train_target.drop(columns=['timestamp'])\n",
    "\n",
    "train_target.head()"
   ]
  },
  {
   "cell_type": "markdown",
   "metadata": {},
   "source": [
    "## Generate some simple features"
   ]
  },
  {
   "cell_type": "code",
   "execution_count": 6,
   "metadata": {},
   "outputs": [],
   "source": [
    "def calculate_popularity(user_actions, action_type):\n",
    "    all_items = user_actions['itemid'].unique()\n",
    "    \n",
    "    tag = False\n",
    "    if action_type == 'to_cart':\n",
    "        tag = True\n",
    "        \n",
    "    ids, cnts = np.unique(\n",
    "        user_actions[user_actions['action_type'] == tag]['itemid'].values,\n",
    "        return_counts=True\n",
    "    )\n",
    "        \n",
    "    res = pd.DataFrame(all_items.reshape(-1,1), columns=['itemid'])\n",
    "    cnts_df = pd.DataFrame(np.vstack([ids, cnts]).T, columns=['itemid', f'{action_type}_cnt'])\n",
    "    \n",
    "    return res.merge(cnts_df, on='itemid', how='left').fillna(0)\n",
    "\n",
    "def calculate_last_day_popularity(user_actions, action_type):\n",
    "    max_day = user_actions['timestamp'].max()\n",
    "    all_items = user_actions['itemid'].unique()\n",
    "\n",
    "    tag = False\n",
    "    if action_type == 'to_cart':\n",
    "        tag = True\n",
    "       \n",
    "    condition = (\n",
    "        (user_actions['action_type'] == tag) & \n",
    "        (user_actions['timestamp'] == max_day)\n",
    "    )\n",
    "    \n",
    "    ids, cnts = np.unique(\n",
    "        user_actions[condition]['itemid'].values,\n",
    "        return_counts=True\n",
    "    )    \n",
    "    \n",
    "    res = pd.DataFrame(all_items.reshape(-1,1), columns=['itemid'])\n",
    "    cnts_df = pd.DataFrame(np.vstack([ids, cnts]).T, columns=['itemid', f'{action_type}_cnt_last_day'])\n",
    "    \n",
    "    return res.merge(cnts_df, on='itemid', how='left').fillna(0)\n",
    "\n",
    "def calculate_day_avg_popularity(user_actions, action_type):\n",
    "    all_items = user_actions['itemid'].unique()\n",
    "\n",
    "    tag = False\n",
    "    if action_type == 'to_cart':\n",
    "        tag = True\n",
    "       \n",
    "    condition = (user_actions['action_type'] == tag)\n",
    "    \n",
    "    cnts_df = (\n",
    "        user_actions[condition]\n",
    "        .groupby(['itemid', 'timestamp'])['clientid']\n",
    "        .agg(['count'])\n",
    "        .reset_index()\n",
    "        .drop(columns=['timestamp'])\n",
    "        .rename(columns={'count': f'{action_type}_day_avg_cnt'})\n",
    "    )    \n",
    "    \n",
    "    res = pd.DataFrame(all_items.reshape(-1,1), columns=['itemid'])\n",
    "    \n",
    "    return res.merge(cnts_df, on='itemid', how='left').fillna(0)\n",
    "    \n",
    "def generate_popularity_features(user_actions, target):\n",
    "    view_cnts_df = calculate_popularity(user_actions, 'view').rename(columns={'itemid': 'jointitemid'})\n",
    "    cart_cnts_df = calculate_popularity(user_actions, 'to_cart').rename(columns={'itemid': 'jointitemid'})\n",
    "    \n",
    "    res = target.copy()\n",
    "    res = (\n",
    "        res\n",
    "        .merge(view_cnts_df, on='jointitemid', how='left')\n",
    "        .fillna(0)\n",
    "        .merge(cart_cnts_df, on='jointitemid', how='left')\n",
    "        .fillna(0)\n",
    "    )\n",
    "    \n",
    "    res['ctr'] = res['to_cart_cnt'] / (res['view_cnt'] + 1.)\n",
    "    \n",
    "    view_cnts_last_day_df = (\n",
    "        calculate_last_day_popularity(user_actions, 'view')\n",
    "        .rename(columns={'itemid': 'jointitemid'})\n",
    "    )\n",
    "    cart_cnts_last_day_df = (\n",
    "        calculate_last_day_popularity(user_actions, 'to_cart')\n",
    "        .rename(columns={'itemid': 'jointitemid'})\n",
    "    )\n",
    "    \n",
    "    res = (\n",
    "        res\n",
    "        .merge(view_cnts_last_day_df, on='jointitemid', how='left')\n",
    "        .fillna(0)\n",
    "        .merge(cart_cnts_last_day_df, on='jointitemid', how='left')\n",
    "        .fillna(0)\n",
    "    )\n",
    "    \n",
    "    return res"
   ]
  },
  {
   "cell_type": "code",
   "execution_count": 7,
   "metadata": {},
   "outputs": [
    {
     "data": {
      "text/html": [
       "<div>\n",
       "<style scoped>\n",
       "    .dataframe tbody tr th:only-of-type {\n",
       "        vertical-align: middle;\n",
       "    }\n",
       "\n",
       "    .dataframe tbody tr th {\n",
       "        vertical-align: top;\n",
       "    }\n",
       "\n",
       "    .dataframe thead th {\n",
       "        text-align: right;\n",
       "    }\n",
       "</style>\n",
       "<table border=\"1\" class=\"dataframe\">\n",
       "  <thead>\n",
       "    <tr style=\"text-align: right;\">\n",
       "      <th></th>\n",
       "      <th>clientid</th>\n",
       "      <th>itemid</th>\n",
       "      <th>jointitemid</th>\n",
       "      <th>label</th>\n",
       "      <th>view_cnt</th>\n",
       "      <th>to_cart_cnt</th>\n",
       "      <th>ctr</th>\n",
       "      <th>view_cnt_last_day</th>\n",
       "      <th>to_cart_cnt_last_day</th>\n",
       "    </tr>\n",
       "  </thead>\n",
       "  <tbody>\n",
       "    <tr>\n",
       "      <th>0</th>\n",
       "      <td>7833842</td>\n",
       "      <td>31499843</td>\n",
       "      <td>138176581</td>\n",
       "      <td>1</td>\n",
       "      <td>31.0</td>\n",
       "      <td>9.0</td>\n",
       "      <td>0.281250</td>\n",
       "      <td>0.0</td>\n",
       "      <td>0.0</td>\n",
       "    </tr>\n",
       "    <tr>\n",
       "      <th>1</th>\n",
       "      <td>19548158</td>\n",
       "      <td>147389610</td>\n",
       "      <td>148381589</td>\n",
       "      <td>0</td>\n",
       "      <td>24.0</td>\n",
       "      <td>9.0</td>\n",
       "      <td>0.360000</td>\n",
       "      <td>0.0</td>\n",
       "      <td>0.0</td>\n",
       "    </tr>\n",
       "    <tr>\n",
       "      <th>2</th>\n",
       "      <td>32943407</td>\n",
       "      <td>6261257</td>\n",
       "      <td>4490956</td>\n",
       "      <td>0</td>\n",
       "      <td>0.0</td>\n",
       "      <td>1.0</td>\n",
       "      <td>1.000000</td>\n",
       "      <td>0.0</td>\n",
       "      <td>0.0</td>\n",
       "    </tr>\n",
       "    <tr>\n",
       "      <th>3</th>\n",
       "      <td>10185243</td>\n",
       "      <td>148455169</td>\n",
       "      <td>148455173</td>\n",
       "      <td>0</td>\n",
       "      <td>10.0</td>\n",
       "      <td>1.0</td>\n",
       "      <td>0.090909</td>\n",
       "      <td>0.0</td>\n",
       "      <td>0.0</td>\n",
       "    </tr>\n",
       "    <tr>\n",
       "      <th>4</th>\n",
       "      <td>30552232</td>\n",
       "      <td>152440009</td>\n",
       "      <td>152440052</td>\n",
       "      <td>0</td>\n",
       "      <td>9.0</td>\n",
       "      <td>1.0</td>\n",
       "      <td>0.100000</td>\n",
       "      <td>0.0</td>\n",
       "      <td>0.0</td>\n",
       "    </tr>\n",
       "  </tbody>\n",
       "</table>\n",
       "</div>"
      ],
      "text/plain": [
       "   clientid     itemid  jointitemid  label  view_cnt  to_cart_cnt       ctr  \\\n",
       "0   7833842   31499843    138176581      1      31.0          9.0  0.281250   \n",
       "1  19548158  147389610    148381589      0      24.0          9.0  0.360000   \n",
       "2  32943407    6261257      4490956      0       0.0          1.0  1.000000   \n",
       "3  10185243  148455169    148455173      0      10.0          1.0  0.090909   \n",
       "4  30552232  152440009    152440052      0       9.0          1.0  0.100000   \n",
       "\n",
       "   view_cnt_last_day  to_cart_cnt_last_day  \n",
       "0                0.0                   0.0  \n",
       "1                0.0                   0.0  \n",
       "2                0.0                   0.0  \n",
       "3                0.0                   0.0  \n",
       "4                0.0                   0.0  "
      ]
     },
     "execution_count": 7,
     "metadata": {},
     "output_type": "execute_result"
    }
   ],
   "source": [
    "train = generate_popularity_features(user_actions, train_target)\n",
    "train.head()"
   ]
  },
  {
   "cell_type": "markdown",
   "metadata": {},
   "source": [
    "## train model"
   ]
  },
  {
   "cell_type": "code",
   "execution_count": 8,
   "metadata": {},
   "outputs": [],
   "source": [
    "from sklearn.preprocessing import QuantileTransformer\n",
    "from sklearn.linear_model import LogisticRegression\n",
    "from sklearn.ensemble import RandomForestClassifier\n",
    "from sklearn.metrics import roc_auc_score"
   ]
  },
  {
   "cell_type": "code",
   "execution_count": 9,
   "metadata": {},
   "outputs": [
    {
     "data": {
      "text/html": [
       "<div>\n",
       "<style scoped>\n",
       "    .dataframe tbody tr th:only-of-type {\n",
       "        vertical-align: middle;\n",
       "    }\n",
       "\n",
       "    .dataframe tbody tr th {\n",
       "        vertical-align: top;\n",
       "    }\n",
       "\n",
       "    .dataframe thead th {\n",
       "        text-align: right;\n",
       "    }\n",
       "</style>\n",
       "<table border=\"1\" class=\"dataframe\">\n",
       "  <thead>\n",
       "    <tr style=\"text-align: right;\">\n",
       "      <th></th>\n",
       "      <th>view_cnt</th>\n",
       "      <th>to_cart_cnt</th>\n",
       "      <th>ctr</th>\n",
       "      <th>view_cnt_last_day</th>\n",
       "      <th>to_cart_cnt_last_day</th>\n",
       "    </tr>\n",
       "  </thead>\n",
       "  <tbody>\n",
       "    <tr>\n",
       "      <th>0</th>\n",
       "      <td>31.0</td>\n",
       "      <td>9.0</td>\n",
       "      <td>0.281250</td>\n",
       "      <td>0.0</td>\n",
       "      <td>0.0</td>\n",
       "    </tr>\n",
       "    <tr>\n",
       "      <th>1</th>\n",
       "      <td>24.0</td>\n",
       "      <td>9.0</td>\n",
       "      <td>0.360000</td>\n",
       "      <td>0.0</td>\n",
       "      <td>0.0</td>\n",
       "    </tr>\n",
       "    <tr>\n",
       "      <th>2</th>\n",
       "      <td>0.0</td>\n",
       "      <td>1.0</td>\n",
       "      <td>1.000000</td>\n",
       "      <td>0.0</td>\n",
       "      <td>0.0</td>\n",
       "    </tr>\n",
       "    <tr>\n",
       "      <th>3</th>\n",
       "      <td>10.0</td>\n",
       "      <td>1.0</td>\n",
       "      <td>0.090909</td>\n",
       "      <td>0.0</td>\n",
       "      <td>0.0</td>\n",
       "    </tr>\n",
       "    <tr>\n",
       "      <th>4</th>\n",
       "      <td>9.0</td>\n",
       "      <td>1.0</td>\n",
       "      <td>0.100000</td>\n",
       "      <td>0.0</td>\n",
       "      <td>0.0</td>\n",
       "    </tr>\n",
       "  </tbody>\n",
       "</table>\n",
       "</div>"
      ],
      "text/plain": [
       "   view_cnt  to_cart_cnt       ctr  view_cnt_last_day  to_cart_cnt_last_day\n",
       "0      31.0          9.0  0.281250                0.0                   0.0\n",
       "1      24.0          9.0  0.360000                0.0                   0.0\n",
       "2       0.0          1.0  1.000000                0.0                   0.0\n",
       "3      10.0          1.0  0.090909                0.0                   0.0\n",
       "4       9.0          1.0  0.100000                0.0                   0.0"
      ]
     },
     "execution_count": 9,
     "metadata": {},
     "output_type": "execute_result"
    }
   ],
   "source": [
    "X = train[['view_cnt', 'to_cart_cnt', 'ctr', 'view_cnt_last_day', 'to_cart_cnt_last_day']]\n",
    "y = train['label']\n",
    "X.head()"
   ]
  },
  {
   "cell_type": "code",
   "execution_count": 10,
   "metadata": {},
   "outputs": [
    {
     "data": {
      "text/plain": [
       "RandomForestClassifier(bootstrap=True, class_weight={0: 1.0, 1: 1.0},\n",
       "                       criterion='gini', max_depth=5, max_features=2,\n",
       "                       max_leaf_nodes=None, min_impurity_decrease=0.0,\n",
       "                       min_impurity_split=None, min_samples_leaf=1,\n",
       "                       min_samples_split=2, min_weight_fraction_leaf=0.0,\n",
       "                       n_estimators=100, n_jobs=-1, oob_score=False,\n",
       "                       random_state=7, verbose=0, warm_start=False)"
      ]
     },
     "execution_count": 10,
     "metadata": {},
     "output_type": "execute_result"
    }
   ],
   "source": [
    "model = RandomForestClassifier(\n",
    "    n_estimators=100,\n",
    "    max_depth=5,\n",
    "    max_features=2,\n",
    "    random_state=7,\n",
    "    class_weight={0: 1., 1: 1.},\n",
    "    n_jobs=-1\n",
    ")\n",
    "model.fit(X, y)"
   ]
  },
  {
   "cell_type": "markdown",
   "metadata": {},
   "source": [
    "## evaluate model"
   ]
  },
  {
   "cell_type": "code",
   "execution_count": 11,
   "metadata": {},
   "outputs": [
    {
     "data": {
      "text/html": [
       "<div>\n",
       "<style scoped>\n",
       "    .dataframe tbody tr th:only-of-type {\n",
       "        vertical-align: middle;\n",
       "    }\n",
       "\n",
       "    .dataframe tbody tr th {\n",
       "        vertical-align: top;\n",
       "    }\n",
       "\n",
       "    .dataframe thead th {\n",
       "        text-align: right;\n",
       "    }\n",
       "</style>\n",
       "<table border=\"1\" class=\"dataframe\">\n",
       "  <thead>\n",
       "    <tr style=\"text-align: right;\">\n",
       "      <th></th>\n",
       "      <th>clientid</th>\n",
       "      <th>itemid</th>\n",
       "      <th>jointitemid</th>\n",
       "      <th>label</th>\n",
       "      <th>timestamp</th>\n",
       "    </tr>\n",
       "  </thead>\n",
       "  <tbody>\n",
       "    <tr>\n",
       "      <th>0</th>\n",
       "      <td>8081929</td>\n",
       "      <td>152898248</td>\n",
       "      <td>152875664</td>\n",
       "      <td>0</td>\n",
       "      <td>2019-09-06 18:57:23</td>\n",
       "    </tr>\n",
       "    <tr>\n",
       "      <th>1</th>\n",
       "      <td>33378638</td>\n",
       "      <td>144847078</td>\n",
       "      <td>140715321</td>\n",
       "      <td>0</td>\n",
       "      <td>2019-09-02 07:09:31</td>\n",
       "    </tr>\n",
       "    <tr>\n",
       "      <th>2</th>\n",
       "      <td>36237195</td>\n",
       "      <td>149717596</td>\n",
       "      <td>149390783</td>\n",
       "      <td>0</td>\n",
       "      <td>2019-09-01 07:14:01</td>\n",
       "    </tr>\n",
       "    <tr>\n",
       "      <th>3</th>\n",
       "      <td>4190203</td>\n",
       "      <td>141835810</td>\n",
       "      <td>147130456</td>\n",
       "      <td>0</td>\n",
       "      <td>2019-09-06 07:18:33</td>\n",
       "    </tr>\n",
       "    <tr>\n",
       "      <th>4</th>\n",
       "      <td>35362099</td>\n",
       "      <td>24560937</td>\n",
       "      <td>155457711</td>\n",
       "      <td>0</td>\n",
       "      <td>2019-09-05 17:16:28</td>\n",
       "    </tr>\n",
       "  </tbody>\n",
       "</table>\n",
       "</div>"
      ],
      "text/plain": [
       "   clientid     itemid  jointitemid  label            timestamp\n",
       "0   8081929  152898248    152875664      0  2019-09-06 18:57:23\n",
       "1  33378638  144847078    140715321      0  2019-09-02 07:09:31\n",
       "2  36237195  149717596    149390783      0  2019-09-01 07:14:01\n",
       "3   4190203  141835810    147130456      0  2019-09-06 07:18:33\n",
       "4  35362099   24560937    155457711      0  2019-09-05 17:16:28"
      ]
     },
     "execution_count": 11,
     "metadata": {},
     "output_type": "execute_result"
    }
   ],
   "source": [
    "test_target = pd.read_csv('data/target_test.csv')\n",
    "test_target.head()"
   ]
  },
  {
   "cell_type": "code",
   "execution_count": 12,
   "metadata": {},
   "outputs": [
    {
     "data": {
      "text/html": [
       "<div>\n",
       "<style scoped>\n",
       "    .dataframe tbody tr th:only-of-type {\n",
       "        vertical-align: middle;\n",
       "    }\n",
       "\n",
       "    .dataframe tbody tr th {\n",
       "        vertical-align: top;\n",
       "    }\n",
       "\n",
       "    .dataframe thead th {\n",
       "        text-align: right;\n",
       "    }\n",
       "</style>\n",
       "<table border=\"1\" class=\"dataframe\">\n",
       "  <thead>\n",
       "    <tr style=\"text-align: right;\">\n",
       "      <th></th>\n",
       "      <th>clientid</th>\n",
       "      <th>itemid</th>\n",
       "      <th>jointitemid</th>\n",
       "      <th>label</th>\n",
       "    </tr>\n",
       "  </thead>\n",
       "  <tbody>\n",
       "    <tr>\n",
       "      <th>0</th>\n",
       "      <td>8081929</td>\n",
       "      <td>152898248</td>\n",
       "      <td>152875664</td>\n",
       "      <td>0</td>\n",
       "    </tr>\n",
       "    <tr>\n",
       "      <th>1</th>\n",
       "      <td>33378638</td>\n",
       "      <td>144847078</td>\n",
       "      <td>140715321</td>\n",
       "      <td>0</td>\n",
       "    </tr>\n",
       "    <tr>\n",
       "      <th>2</th>\n",
       "      <td>36237195</td>\n",
       "      <td>149717596</td>\n",
       "      <td>149390783</td>\n",
       "      <td>0</td>\n",
       "    </tr>\n",
       "    <tr>\n",
       "      <th>3</th>\n",
       "      <td>4190203</td>\n",
       "      <td>141835810</td>\n",
       "      <td>147130456</td>\n",
       "      <td>0</td>\n",
       "    </tr>\n",
       "    <tr>\n",
       "      <th>4</th>\n",
       "      <td>35362099</td>\n",
       "      <td>24560937</td>\n",
       "      <td>155457711</td>\n",
       "      <td>0</td>\n",
       "    </tr>\n",
       "  </tbody>\n",
       "</table>\n",
       "</div>"
      ],
      "text/plain": [
       "   clientid     itemid  jointitemid  label\n",
       "0   8081929  152898248    152875664      0\n",
       "1  33378638  144847078    140715321      0\n",
       "2  36237195  149717596    149390783      0\n",
       "3   4190203  141835810    147130456      0\n",
       "4  35362099   24560937    155457711      0"
      ]
     },
     "execution_count": 12,
     "metadata": {},
     "output_type": "execute_result"
    }
   ],
   "source": [
    "test_target['clientid'] = test_target['clientid'].astype('uint32')\n",
    "test_target['itemid'] = test_target['itemid'].astype('uint32')\n",
    "test_target['jointitemid'] = test_target['jointitemid'].astype('uint32')\n",
    "test_target['label'] = test_target['label'].astype('int8')\n",
    "test_target = test_target.drop(columns=['timestamp'])\n",
    "\n",
    "test_target.head()"
   ]
  },
  {
   "cell_type": "code",
   "execution_count": 13,
   "metadata": {},
   "outputs": [],
   "source": [
    "test = generate_popularity_features(user_actions, test_target)\n",
    "X_test = test[['view_cnt', 'to_cart_cnt', 'ctr', 'view_cnt_last_day', 'to_cart_cnt_last_day']]\n",
    "y_test = test['label']\n",
    "\n",
    "y_pred = model.predict_proba(X_test)[:, 1]"
   ]
  },
  {
   "cell_type": "code",
   "execution_count": 14,
   "metadata": {},
   "outputs": [
    {
     "name": "stdout",
     "output_type": "stream",
     "text": [
      "roc_auc: 0.5533934152733533\n"
     ]
    }
   ],
   "source": [
    "print ('roc_auc:', roc_auc_score(y_test.values, y_pred))"
   ]
  },
  {
   "cell_type": "code",
   "execution_count": 26,
   "metadata": {},
   "outputs": [
    {
     "data": {
      "image/png": "[encoded data removed]",
      "text/plain": [
       "<Figure size 432x288 with 1 Axes>"
      ]
     },
     "metadata": {
      "needs_background": "light"
     },
     "output_type": "display_data"
    }
   ],
   "source": [
    "from sklearn.metrics import roc_curve, auc\n",
    "from sklearn.metrics import roc_auc_score\n",
    "y_score = model.predict_proba(X_test)[:,1]\n",
    "\n",
    "fpr, tpr, thresholds = roc_curve(y_test, y_score)\n",
    "roc_auc = auc(fpr, tpr)\n",
    "plt.figure()\n",
    "auc = round(roc_auc_score(y_test, y_score), 4)\n",
    "plt.plot(fpr, tpr, color='darkorange', lw=2, label='ROC_AUC curve ( auc = %0.3f)' % auc)\n",
    "plt.plot([0, 1], [0, 1], color='navy', lw=2, linestyle='--')\n",
    "plt.xlim([0.0, 1.0])\n",
    "plt.ylim([0.0, 1.05])\n",
    "plt.xlabel('False Positive Rate')\n",
    "plt.ylabel('True Positive Rate')\n",
    "plt.title('ROC curve')\n",
    "plt.legend(loc=\"lower right\")\n",
    "plt.show()"
   ]
  },
  {
   "cell_type": "code",
   "execution_count": 21,
   "metadata": {},
   "outputs": [
    {
     "data": {
      "image/png": "[encoded data removed]",
      "text/plain": [
       "<Figure size 432x288 with 1 Axes>"
      ]
     },
     "metadata": {
      "needs_background": "light"
     },
     "output_type": "display_data"
    }
   ],
   "source": [
    "%matplotlib inline\n",
    "import sklearn.metrics as metrics\n",
    "# calculate the fpr and tpr for all thresholds of the classification\n",
    "probs = model.predict_proba(X_test)\n",
    "preds = probs[:,1]\n",
    "fpr, tpr, threshold = metrics.roc_curve(y_test, preds)\n",
    "roc_auc = metrics.auc(fpr, tpr)\n",
    "\n",
    "# method I: plt\n",
    "import matplotlib.pyplot as plt\n",
    "plt.title('Receiver Operating Characteristic')\n",
    "plt.plot(fpr, tpr, 'b', label = 'AUC = %0.2f' % roc_auc)\n",
    "plt.legend(loc = 'lower right')\n",
    "plt.plot([0, 1], [0, 1],'r--')\n",
    "plt.xlim([0, 1])\n",
    "plt.ylim([0, 1])\n",
    "plt.ylabel('True Positive Rate')\n",
    "plt.xlabel('False Positive Rate')\n",
    "plt.show()"
   ]
  },
  {
   "cell_type": "code",
   "execution_count": 15,
   "metadata": {},
   "outputs": [
    {
     "name": "stdout",
     "output_type": "stream",
     "text": [
      "feature importances\n"
     ]
    },
    {
     "data": {
      "text/html": [
       "<div>\n",
       "<style scoped>\n",
       "    .dataframe tbody tr th:only-of-type {\n",
       "        vertical-align: middle;\n",
       "    }\n",
       "\n",
       "    .dataframe tbody tr th {\n",
       "        vertical-align: top;\n",
       "    }\n",
       "\n",
       "    .dataframe thead th {\n",
       "        text-align: right;\n",
       "    }\n",
       "</style>\n",
       "<table border=\"1\" class=\"dataframe\">\n",
       "  <thead>\n",
       "    <tr style=\"text-align: right;\">\n",
       "      <th></th>\n",
       "      <th>0</th>\n",
       "    </tr>\n",
       "  </thead>\n",
       "  <tbody>\n",
       "    <tr>\n",
       "      <th>view_cnt</th>\n",
       "      <td>0.505370</td>\n",
       "    </tr>\n",
       "    <tr>\n",
       "      <th>to_cart_cnt</th>\n",
       "      <td>0.139702</td>\n",
       "    </tr>\n",
       "    <tr>\n",
       "      <th>ctr</th>\n",
       "      <td>0.085534</td>\n",
       "    </tr>\n",
       "    <tr>\n",
       "      <th>view_cnt_last_day</th>\n",
       "      <td>0.238827</td>\n",
       "    </tr>\n",
       "    <tr>\n",
       "      <th>to_cart_cnt_last_day</th>\n",
       "      <td>0.030567</td>\n",
       "    </tr>\n",
       "  </tbody>\n",
       "</table>\n",
       "</div>"
      ],
      "text/plain": [
       "                             0\n",
       "view_cnt              0.505370\n",
       "to_cart_cnt           0.139702\n",
       "ctr                   0.085534\n",
       "view_cnt_last_day     0.238827\n",
       "to_cart_cnt_last_day  0.030567"
      ]
     },
     "execution_count": 15,
     "metadata": {},
     "output_type": "execute_result"
    }
   ],
   "source": [
    "print ('feature importances')\n",
    "pd.DataFrame(model.feature_importances_.reshape(-1, 1), index=X.columns)"
   ]
  },
  {
   "cell_type": "code",
   "execution_count": 16,
   "metadata": {},
   "outputs": [
    {
     "data": {
      "text/html": [
       "<div>\n",
       "<style scoped>\n",
       "    .dataframe tbody tr th:only-of-type {\n",
       "        vertical-align: middle;\n",
       "    }\n",
       "\n",
       "    .dataframe tbody tr th {\n",
       "        vertical-align: top;\n",
       "    }\n",
       "\n",
       "    .dataframe thead th {\n",
       "        text-align: right;\n",
       "    }\n",
       "</style>\n",
       "<table border=\"1\" class=\"dataframe\">\n",
       "  <thead>\n",
       "    <tr style=\"text-align: right;\">\n",
       "      <th></th>\n",
       "      <th>clientid</th>\n",
       "      <th>itemid</th>\n",
       "      <th>jointitemid</th>\n",
       "      <th>label</th>\n",
       "      <th>view_cnt</th>\n",
       "      <th>to_cart_cnt</th>\n",
       "      <th>ctr</th>\n",
       "      <th>view_cnt_last_day</th>\n",
       "      <th>to_cart_cnt_last_day</th>\n",
       "      <th>prob</th>\n",
       "    </tr>\n",
       "  </thead>\n",
       "  <tbody>\n",
       "    <tr>\n",
       "      <th>0</th>\n",
       "      <td>8081929</td>\n",
       "      <td>152898248</td>\n",
       "      <td>152875664</td>\n",
       "      <td>0</td>\n",
       "      <td>10.0</td>\n",
       "      <td>2.0</td>\n",
       "      <td>0.181818</td>\n",
       "      <td>0.0</td>\n",
       "      <td>0.0</td>\n",
       "      <td>0.113882</td>\n",
       "    </tr>\n",
       "    <tr>\n",
       "      <th>1</th>\n",
       "      <td>33378638</td>\n",
       "      <td>144847078</td>\n",
       "      <td>140715321</td>\n",
       "      <td>0</td>\n",
       "      <td>211.0</td>\n",
       "      <td>19.0</td>\n",
       "      <td>0.089623</td>\n",
       "      <td>11.0</td>\n",
       "      <td>1.0</td>\n",
       "      <td>0.156768</td>\n",
       "    </tr>\n",
       "    <tr>\n",
       "      <th>2</th>\n",
       "      <td>36237195</td>\n",
       "      <td>149717596</td>\n",
       "      <td>149390783</td>\n",
       "      <td>0</td>\n",
       "      <td>282.0</td>\n",
       "      <td>20.0</td>\n",
       "      <td>0.070671</td>\n",
       "      <td>5.0</td>\n",
       "      <td>1.0</td>\n",
       "      <td>0.155811</td>\n",
       "    </tr>\n",
       "    <tr>\n",
       "      <th>3</th>\n",
       "      <td>4190203</td>\n",
       "      <td>141835810</td>\n",
       "      <td>147130456</td>\n",
       "      <td>0</td>\n",
       "      <td>892.0</td>\n",
       "      <td>210.0</td>\n",
       "      <td>0.235162</td>\n",
       "      <td>14.0</td>\n",
       "      <td>2.0</td>\n",
       "      <td>0.153404</td>\n",
       "    </tr>\n",
       "    <tr>\n",
       "      <th>4</th>\n",
       "      <td>35362099</td>\n",
       "      <td>24560937</td>\n",
       "      <td>155457711</td>\n",
       "      <td>0</td>\n",
       "      <td>0.0</td>\n",
       "      <td>2.0</td>\n",
       "      <td>2.000000</td>\n",
       "      <td>0.0</td>\n",
       "      <td>0.0</td>\n",
       "      <td>0.107835</td>\n",
       "    </tr>\n",
       "  </tbody>\n",
       "</table>\n",
       "</div>"
      ],
      "text/plain": [
       "   clientid     itemid  jointitemid  label  view_cnt  to_cart_cnt       ctr  \\\n",
       "0   8081929  152898248    152875664      0      10.0          2.0  0.181818   \n",
       "1  33378638  144847078    140715321      0     211.0         19.0  0.089623   \n",
       "2  36237195  149717596    149390783      0     282.0         20.0  0.070671   \n",
       "3   4190203  141835810    147130456      0     892.0        210.0  0.235162   \n",
       "4  35362099   24560937    155457711      0       0.0          2.0  2.000000   \n",
       "\n",
       "   view_cnt_last_day  to_cart_cnt_last_day      prob  \n",
       "0                0.0                   0.0  0.113882  \n",
       "1               11.0                   1.0  0.156768  \n",
       "2                5.0                   1.0  0.155811  \n",
       "3               14.0                   2.0  0.153404  \n",
       "4                0.0                   0.0  0.107835  "
      ]
     },
     "execution_count": 16,
     "metadata": {},
     "output_type": "execute_result"
    }
   ],
   "source": [
    "test['prob'] = y_pred\n",
    "test.head()"
   ]
  },
  {
   "cell_type": "code",
   "execution_count": 17,
   "metadata": {},
   "outputs": [],
   "source": [
    "def recall_at_k(test, k):\n",
    "    pred = (\n",
    "        test\n",
    "        .sort_values(['clientid', 'itemid', 'prob'], ascending=[True, True, False])\n",
    "        .groupby(['clientid', 'itemid'])['jointitemid']\n",
    "        .agg(list)\n",
    "        .reset_index()\n",
    "    )\n",
    "    \n",
    "    true = (\n",
    "        test[test['label'] == 1]\n",
    "        .groupby(['clientid', 'itemid'])['jointitemid']\n",
    "        .agg(list)\n",
    "        .reset_index()\n",
    "    )\n",
    "    \n",
    "    pred_true_df = pred.merge(true, on=['clientid', 'itemid'], how='inner', suffixes=('_pred', '_true'))\n",
    "    \n",
    "    hits = 0\n",
    "    alls = 0\n",
    "    for pred, true in pred_true_df[['jointitemid_pred', 'jointitemid_true']].values:\n",
    "        for idx in set(pred[:k]):\n",
    "            if idx in set(true):\n",
    "                hits += 1\n",
    "        alls += len(set(true))\n",
    "\n",
    "    return (hits * 1.) / alls\n",
    "\n",
    "def mapk(test, k):   \n",
    "    pred = (\n",
    "        test\n",
    "        .sort_values(['clientid', 'itemid', 'prob'], ascending=[True, True, False])\n",
    "        .groupby(['clientid', 'itemid'])['jointitemid']\n",
    "        .agg(list)\n",
    "        .reset_index()\n",
    "    )\n",
    "    \n",
    "    true = (\n",
    "        test[test['label'] == 1]\n",
    "        .groupby(['clientid', 'itemid'])['jointitemid']\n",
    "        .agg(list)\n",
    "        .reset_index()\n",
    "    )\n",
    "    \n",
    "    pred_true_df = pred.merge(true, on=['clientid', 'itemid'], how='inner', suffixes=('_pred', '_true'))\n",
    "    \n",
    "    score = 0\n",
    "    hits=0\n",
    "    general_score=[]\n",
    "\n",
    "    for pred, true in pred_true_df[['jointitemid_pred', 'jointitemid_true']].values:\n",
    "        for i,dx in enumerate(set(pred[:k])):\n",
    "            if dx in set(true):\n",
    "                hits += 1\n",
    "                score += hits/(i+1)\n",
    "        general_score.append(score/k)\n",
    "        score=0\n",
    "        hits=0\n",
    "    return np.mean(general_score)"
   ]
  },
  {
   "cell_type": "code",
   "execution_count": 18,
   "metadata": {},
   "outputs": [
    {
     "name": "stdout",
     "output_type": "stream",
     "text": [
      "recall@k: 0.4710243548366191\n"
     ]
    }
   ],
   "source": [
    "print ('recall@k:', recall_at_k(test, 3))"
   ]
  },
  {
   "cell_type": "code",
   "execution_count": 19,
   "metadata": {
    "scrolled": true
   },
   "outputs": [
    {
     "data": {
      "text/plain": [
       "0.18098274811732837"
      ]
     },
     "execution_count": 19,
     "metadata": {},
     "output_type": "execute_result"
    }
   ],
   "source": [
    "recall_at_k(test, 1)"
   ]
  },
  {
   "cell_type": "code",
   "execution_count": 19,
   "metadata": {},
   "outputs": [
    {
     "name": "stdout",
     "output_type": "stream",
     "text": [
      "map@k: 0.11873534377036479\n"
     ]
    }
   ],
   "source": [
    "print ('map@k:', mapk(test, 3))"
   ]
  },
  {
   "cell_type": "code",
   "execution_count": 21,
   "metadata": {},
   "outputs": [
    {
     "data": {
      "text/plain": [
       "0.2149443512261203"
      ]
     },
     "execution_count": 21,
     "metadata": {},
     "output_type": "execute_result"
    }
   ],
   "source": [
    "mapk(test, 1)"
   ]
  },
  {
   "cell_type": "code",
   "execution_count": 22,
   "metadata": {},
   "outputs": [],
   "source": [
    "test_ = test.copy()\n",
    "test_['prob'] = test_['view_cnt']"
   ]
  },
  {
   "cell_type": "code",
   "execution_count": 23,
   "metadata": {},
   "outputs": [
    {
     "data": {
      "text/plain": [
       "0.46949488665085354"
      ]
     },
     "execution_count": 23,
     "metadata": {},
     "output_type": "execute_result"
    }
   ],
   "source": [
    "recall_at_k(test_, 3)"
   ]
  },
  {
   "cell_type": "code",
   "execution_count": 24,
   "metadata": {},
   "outputs": [
    {
     "data": {
      "text/plain": [
       "0.17820896683127893"
      ]
     },
     "execution_count": 24,
     "metadata": {},
     "output_type": "execute_result"
    }
   ],
   "source": [
    "recall_at_k(test_, 1)"
   ]
  },
  {
   "cell_type": "code",
   "execution_count": null,
   "metadata": {},
   "outputs": [],
   "source": []
  }
 ],
 "metadata": {
  "kernelspec": {
   "display_name": "Python 3",
   "language": "python",
   "name": "python3"
  },
  "language_info": {
   "codemirror_mode": {
    "name": "ipython",
    "version": 3
   },
   "file_extension": ".py",
   "mimetype": "text/x-python",
   "name": "python",
   "nbconvert_exporter": "python",
   "pygments_lexer": "ipython3",
   "version": "3.7.3"
  }
 },
 "nbformat": 4,
 "nbformat_minor": 2
}
