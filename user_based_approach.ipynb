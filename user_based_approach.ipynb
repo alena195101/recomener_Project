{
 "cells": [
  {
   "cell_type": "markdown",
   "metadata": {},
   "source": [
    "## Реализация user_based подхода"
   ]
  },
  {
   "cell_type": "code",
   "execution_count": 1,
   "metadata": {
    "colab": {
     "base_uri": "https://localhost:8080/",
     "height": 258
    },
    "colab_type": "code",
    "executionInfo": {
     "elapsed": 88659,
     "status": "ok",
     "timestamp": 1573478534820,
     "user": {
      "displayName": "Алена Тимофеева",
      "photoUrl": "",
      "userId": "17526456028262676023"
     },
     "user_tz": -180
    },
    "id": "VK8XDbBJ8SjJ",
    "outputId": "78ece3ce-660f-40bf-fa32-a8949c66cdc2"
   },
   "outputs": [
    {
     "name": "stdout",
     "output_type": "stream",
     "text": [
      "Collecting implicit\n",
      "\u001b[?25l  Downloading https://files.pythonhosted.org/packages/5a/d8/6b4f1374ffa2647b72ac76960c71b984c6f3238090359fb419d03827d87a/implicit-0.4.2.tar.gz (1.1MB)\n",
      "\r",
      "\u001b[K     |▎                               | 10kB 16.6MB/s eta 0:00:01\r",
      "\u001b[K     |▋                               | 20kB 2.3MB/s eta 0:00:01\r",
      "\u001b[K     |▉                               | 30kB 3.3MB/s eta 0:00:01\r",
      "\u001b[K     |█▏                              | 40kB 2.1MB/s eta 0:00:01\r",
      "\u001b[K     |█▌                              | 51kB 2.6MB/s eta 0:00:01\r",
      "\u001b[K     |█▊                              | 61kB 3.1MB/s eta 0:00:01\r",
      "\u001b[K     |██                              | 71kB 3.6MB/s eta 0:00:01\r",
      "\u001b[K     |██▍                             | 81kB 4.1MB/s eta 0:00:01\r",
      "\u001b[K     |██▋                             | 92kB 4.6MB/s eta 0:00:01\r",
      "\u001b[K     |███                             | 102kB 3.5MB/s eta 0:00:01\r",
      "\u001b[K     |███▎                            | 112kB 3.5MB/s eta 0:00:01\r",
      "\u001b[K     |███▌                            | 122kB 3.5MB/s eta 0:00:01\r",
      "\u001b[K     |███▉                            | 133kB 3.5MB/s eta 0:00:01\r",
      "\u001b[K     |████▏                           | 143kB 3.5MB/s eta 0:00:01\r",
      "\u001b[K     |████▍                           | 153kB 3.5MB/s eta 0:00:01\r",
      "\u001b[K     |████▊                           | 163kB 3.5MB/s eta 0:00:01\r",
      "\u001b[K     |█████                           | 174kB 3.5MB/s eta 0:00:01\r",
      "\u001b[K     |█████▎                          | 184kB 3.5MB/s eta 0:00:01\r",
      "\u001b[K     |█████▋                          | 194kB 3.5MB/s eta 0:00:01\r",
      "\u001b[K     |█████▉                          | 204kB 3.5MB/s eta 0:00:01\r",
      "\u001b[K     |██████▏                         | 215kB 3.5MB/s eta 0:00:01\r",
      "\u001b[K     |██████▌                         | 225kB 3.5MB/s eta 0:00:01\r",
      "\u001b[K     |██████▊                         | 235kB 3.5MB/s eta 0:00:01\r",
      "\u001b[K     |███████                         | 245kB 3.5MB/s eta 0:00:01\r",
      "\u001b[K     |███████▍                        | 256kB 3.5MB/s eta 0:00:01\r",
      "\u001b[K     |███████▋                        | 266kB 3.5MB/s eta 0:00:01\r",
      "\u001b[K     |████████                        | 276kB 3.5MB/s eta 0:00:01\r",
      "\u001b[K     |████████▎                       | 286kB 3.5MB/s eta 0:00:01\r",
      "\u001b[K     |████████▌                       | 296kB 3.5MB/s eta 0:00:01\r",
      "\u001b[K     |████████▉                       | 307kB 3.5MB/s eta 0:00:01\r",
      "\u001b[K     |█████████                       | 317kB 3.5MB/s eta 0:00:01\r",
      "\u001b[K     |█████████▍                      | 327kB 3.5MB/s eta 0:00:01\r",
      "\u001b[K     |█████████▊                      | 337kB 3.5MB/s eta 0:00:01\r",
      "\u001b[K     |██████████                      | 348kB 3.5MB/s eta 0:00:01\r",
      "\u001b[K     |██████████▎                     | 358kB 3.5MB/s eta 0:00:01\r",
      "\u001b[K     |██████████▋                     | 368kB 3.5MB/s eta 0:00:01\r",
      "\u001b[K     |██████████▉                     | 378kB 3.5MB/s eta 0:00:01\r",
      "\u001b[K     |███████████▏                    | 389kB 3.5MB/s eta 0:00:01\r",
      "\u001b[K     |███████████▌                    | 399kB 3.5MB/s eta 0:00:01\r",
      "\u001b[K     |███████████▊                    | 409kB 3.5MB/s eta 0:00:01\r",
      "\u001b[K     |████████████                    | 419kB 3.5MB/s eta 0:00:01\r",
      "\u001b[K     |████████████▍                   | 430kB 3.5MB/s eta 0:00:01\r",
      "\u001b[K     |████████████▋                   | 440kB 3.5MB/s eta 0:00:01\r",
      "\u001b[K     |█████████████                   | 450kB 3.5MB/s eta 0:00:01\r",
      "\u001b[K     |█████████████▏                  | 460kB 3.5MB/s eta 0:00:01\r",
      "\u001b[K     |█████████████▌                  | 471kB 3.5MB/s eta 0:00:01\r",
      "\u001b[K     |█████████████▉                  | 481kB 3.5MB/s eta 0:00:01\r",
      "\u001b[K     |██████████████                  | 491kB 3.5MB/s eta 0:00:01\r",
      "\u001b[K     |██████████████▍                 | 501kB 3.5MB/s eta 0:00:01\r",
      "\u001b[K     |██████████████▊                 | 512kB 3.5MB/s eta 0:00:01\r",
      "\u001b[K     |███████████████                 | 522kB 3.5MB/s eta 0:00:01\r",
      "\u001b[K     |███████████████▎                | 532kB 3.5MB/s eta 0:00:01\r",
      "\u001b[K     |███████████████▋                | 542kB 3.5MB/s eta 0:00:01\r",
      "\u001b[K     |███████████████▉                | 552kB 3.5MB/s eta 0:00:01\r",
      "\u001b[K     |████████████████▏               | 563kB 3.5MB/s eta 0:00:01\r",
      "\u001b[K     |████████████████▌               | 573kB 3.5MB/s eta 0:00:01\r",
      "\u001b[K     |████████████████▊               | 583kB 3.5MB/s eta 0:00:01\r",
      "\u001b[K     |█████████████████               | 593kB 3.5MB/s eta 0:00:01\r",
      "\u001b[K     |█████████████████▍              | 604kB 3.5MB/s eta 0:00:01\r",
      "\u001b[K     |█████████████████▋              | 614kB 3.5MB/s eta 0:00:01\r",
      "\u001b[K     |██████████████████              | 624kB 3.5MB/s eta 0:00:01\r",
      "\u001b[K     |██████████████████▏             | 634kB 3.5MB/s eta 0:00:01\r",
      "\u001b[K     |██████████████████▌             | 645kB 3.5MB/s eta 0:00:01\r",
      "\u001b[K     |██████████████████▉             | 655kB 3.5MB/s eta 0:00:01\r",
      "\u001b[K     |███████████████████             | 665kB 3.5MB/s eta 0:00:01\r",
      "\u001b[K     |███████████████████▍            | 675kB 3.5MB/s eta 0:00:01\r",
      "\u001b[K     |███████████████████▊            | 686kB 3.5MB/s eta 0:00:01\r",
      "\u001b[K     |████████████████████            | 696kB 3.5MB/s eta 0:00:01\r",
      "\u001b[K     |████████████████████▎           | 706kB 3.5MB/s eta 0:00:01\r",
      "\u001b[K     |████████████████████▋           | 716kB 3.5MB/s eta 0:00:01\r",
      "\u001b[K     |████████████████████▉           | 727kB 3.5MB/s eta 0:00:01\r",
      "\u001b[K     |█████████████████████▏          | 737kB 3.5MB/s eta 0:00:01\r",
      "\u001b[K     |█████████████████████▌          | 747kB 3.5MB/s eta 0:00:01\r",
      "\u001b[K     |█████████████████████▊          | 757kB 3.5MB/s eta 0:00:01\r",
      "\u001b[K     |██████████████████████          | 768kB 3.5MB/s eta 0:00:01\r",
      "\u001b[K     |██████████████████████▎         | 778kB 3.5MB/s eta 0:00:01\r",
      "\u001b[K     |██████████████████████▋         | 788kB 3.5MB/s eta 0:00:01\r",
      "\u001b[K     |███████████████████████         | 798kB 3.5MB/s eta 0:00:01\r",
      "\u001b[K     |███████████████████████▏        | 808kB 3.5MB/s eta 0:00:01\r",
      "\u001b[K     |███████████████████████▌        | 819kB 3.5MB/s eta 0:00:01\r",
      "\u001b[K     |███████████████████████▉        | 829kB 3.5MB/s eta 0:00:01\r",
      "\u001b[K     |████████████████████████        | 839kB 3.5MB/s eta 0:00:01\r",
      "\u001b[K     |████████████████████████▍       | 849kB 3.5MB/s eta 0:00:01\r",
      "\u001b[K     |████████████████████████▊       | 860kB 3.5MB/s eta 0:00:01\r",
      "\u001b[K     |█████████████████████████       | 870kB 3.5MB/s eta 0:00:01\r",
      "\u001b[K     |█████████████████████████▎      | 880kB 3.5MB/s eta 0:00:01\r",
      "\u001b[K     |█████████████████████████▋      | 890kB 3.5MB/s eta 0:00:01\r",
      "\u001b[K     |█████████████████████████▉      | 901kB 3.5MB/s eta 0:00:01\r",
      "\u001b[K     |██████████████████████████▏     | 911kB 3.5MB/s eta 0:00:01\r",
      "\u001b[K     |██████████████████████████▍     | 921kB 3.5MB/s eta 0:00:01\r",
      "\u001b[K     |██████████████████████████▊     | 931kB 3.5MB/s eta 0:00:01\r",
      "\u001b[K     |███████████████████████████     | 942kB 3.5MB/s eta 0:00:01\r",
      "\u001b[K     |███████████████████████████▎    | 952kB 3.5MB/s eta 0:00:01\r",
      "\u001b[K     |███████████████████████████▋    | 962kB 3.5MB/s eta 0:00:01\r",
      "\u001b[K     |████████████████████████████    | 972kB 3.5MB/s eta 0:00:01\r",
      "\u001b[K     |████████████████████████████▏   | 983kB 3.5MB/s eta 0:00:01\r",
      "\u001b[K     |████████████████████████████▌   | 993kB 3.5MB/s eta 0:00:01\r",
      "\u001b[K     |████████████████████████████▉   | 1.0MB 3.5MB/s eta 0:00:01\r",
      "\u001b[K     |█████████████████████████████   | 1.0MB 3.5MB/s eta 0:00:01\r",
      "\u001b[K     |█████████████████████████████▍  | 1.0MB 3.5MB/s eta 0:00:01\r",
      "\u001b[K     |█████████████████████████████▊  | 1.0MB 3.5MB/s eta 0:00:01\r",
      "\u001b[K     |██████████████████████████████  | 1.0MB 3.5MB/s eta 0:00:01\r",
      "\u001b[K     |██████████████████████████████▎ | 1.1MB 3.5MB/s eta 0:00:01\r",
      "\u001b[K     |██████████████████████████████▌ | 1.1MB 3.5MB/s eta 0:00:01\r",
      "\u001b[K     |██████████████████████████████▉ | 1.1MB 3.5MB/s eta 0:00:01\r",
      "\u001b[K     |███████████████████████████████▏| 1.1MB 3.5MB/s eta 0:00:01\r",
      "\u001b[K     |███████████████████████████████▍| 1.1MB 3.5MB/s eta 0:00:01\r",
      "\u001b[K     |███████████████████████████████▊| 1.1MB 3.5MB/s eta 0:00:01\r",
      "\u001b[K     |████████████████████████████████| 1.1MB 3.5MB/s \n",
      "\u001b[?25hRequirement already satisfied: numpy in /usr/local/lib/python3.6/dist-packages (from implicit) (1.17.3)\n",
      "Requirement already satisfied: scipy>=0.16 in /usr/local/lib/python3.6/dist-packages (from implicit) (1.3.1)\n",
      "Requirement already satisfied: tqdm>=4.27 in /usr/local/lib/python3.6/dist-packages (from implicit) (4.28.1)\n",
      "Building wheels for collected packages: implicit\n",
      "  Building wheel for implicit (setup.py) ... \u001b[?25l\u001b[?25hdone\n",
      "  Created wheel for implicit: filename=implicit-0.4.2-cp36-cp36m-linux_x86_64.whl size=3476930 sha256=e74790835ea875065836603aea6808a462da9b8395aea554e9a8a5312292a357\n",
      "  Stored in directory: /root/.cache/pip/wheels/1b/48/b1/1aebe3acc3afb5589e72d3e7c3ffc3f637dc4721c1a974dff7\n",
      "Successfully built implicit\n",
      "Installing collected packages: implicit\n",
      "Successfully installed implicit-0.4.2\n"
     ]
    }
   ],
   "source": [
    "import numpy as np\n",
    "import pandas as pd\n",
    "import scipy.sparse as sp\n",
    "import datetime as dt\n",
    "!pip install implicit\n",
    "from implicit._nearest_neighbours import all_pairs_knn\n",
    "from sklearn.preprocessing import normalize"
   ]
  },
  {
   "cell_type": "markdown",
   "metadata": {
    "colab_type": "text",
    "id": "OChZTLDebMv6"
   },
   "source": [
    "## обработка для считывания файлов с гугл диска"
   ]
  },
  {
   "cell_type": "code",
   "execution_count": 2,
   "metadata": {
    "colab": {
     "base_uri": "https://localhost:8080/",
     "height": 122
    },
    "colab_type": "code",
    "executionInfo": {
     "elapsed": 17823,
     "status": "ok",
     "timestamp": 1573478592894,
     "user": {
      "displayName": "Алена Тимофеева",
      "photoUrl": "",
      "userId": "17526456028262676023"
     },
     "user_tz": -180
    },
    "id": "wbDoCWox8dCk",
    "outputId": "0a035a07-82f8-4c12-c045-3cabac56274c"
   },
   "outputs": [
    {
     "name": "stdout",
     "output_type": "stream",
     "text": [
      "Go to this URL in a browser: https://accounts.google.com/o/oauth2/auth?client_id=947318989803-6bn6qk8qdgf4n4g3pfee6491hc0brc4i.apps.googleusercontent.com&redirect_uri=urn%3Aietf%3Awg%3Aoauth%3A2.0%3Aoob&scope=email%20https%3A%2F%2Fwww.googleapis.com%2Fauth%2Fdocs.test%20https%3A%2F%2Fwww.googleapis.com%2Fauth%2Fdrive%20https%3A%2F%2Fwww.googleapis.com%2Fauth%2Fdrive.photos.readonly%20https%3A%2F%2Fwww.googleapis.com%2Fauth%2Fpeopleapi.readonly&response_type=code\n",
      "\n",
      "Enter your authorization code:\n",
      "··········\n",
      "Mounted at /content/gdrive\n"
     ]
    }
   ],
   "source": [
    "from google.colab import drive\n",
    "drive.mount('/content/gdrive')"
   ]
  },
  {
   "cell_type": "code",
   "execution_count": 3,
   "metadata": {
    "colab": {
     "base_uri": "https://localhost:8080/",
     "height": 34
    },
    "colab_type": "code",
    "executionInfo": {
     "elapsed": 1710,
     "status": "ok",
     "timestamp": 1573478592897,
     "user": {
      "displayName": "Алена Тимофеева",
      "photoUrl": "",
      "userId": "17526456028262676023"
     },
     "user_tz": -180
    },
    "id": "WhTF0cq88e3-",
    "outputId": "ea80ad8c-4fc8-471e-a497-8bb29bf606d3"
   },
   "outputs": [
    {
     "name": "stdout",
     "output_type": "stream",
     "text": [
      "/content/gdrive/My Drive/python\n"
     ]
    }
   ],
   "source": [
    "cd /content/gdrive/My Drive/python"
   ]
  },
  {
   "cell_type": "markdown",
   "metadata": {
    "colab_type": "text",
    "id": "cij-K8oFrfql"
   },
   "source": [
    "## Считывание и предобработка данных о действиях, тестовых и тренировочных данных"
   ]
  },
  {
   "cell_type": "code",
   "execution_count": 0,
   "metadata": {
    "colab": {},
    "colab_type": "code",
    "id": "0B_PHL_Nx6AJ"
   },
   "outputs": [],
   "source": [
    "#функция для переиндексации столбцов клиентов и товаров\n",
    "def newIndex(user_actions):\n",
    "    clients = user_actions['clientid'].unique() # все уникальные айди клиентов из user_actions\n",
    "    clients_cat = np.arange(0, len(clients), dtype='uint32') # массив с элементами от 0 до n - 1\n",
    "\n",
    "    # таблица, где каждая строка переводит clientid в номер строки\n",
    "    user_mapping = pd.DataFrame({'old': clients, 'new': clients_cat})\n",
    "\n",
    "    items = user_actions['itemid'].unique() # все уникальные айди товаров из user_actions\n",
    "    items_cat = np.arange(0, len(items), dtype='uint32') # массив с элементами от 0 до m - 1\n",
    "\n",
    "    # таблица, где каждая строка переводит itemid в номер столбца\n",
    "    item_mapping = pd.DataFrame({'old': items, 'new': items_cat})\n",
    "\n",
    "    user_actions['clientid'] = user_actions['clientid'].map(user_mapping.set_index('old').new)\n",
    "    user_actions['itemid'] = user_actions['itemid'].map(item_mapping.set_index('old').new)\n",
    "    return (user_actions, user_mapping, item_mapping)"
   ]
  },
  {
   "cell_type": "code",
   "execution_count": 5,
   "metadata": {
    "colab": {
     "base_uri": "https://localhost:8080/",
     "height": 204
    },
    "colab_type": "code",
    "executionInfo": {
     "elapsed": 24317,
     "status": "ok",
     "timestamp": 1573478620472,
     "user": {
      "displayName": "Алена Тимофеева",
      "photoUrl": "",
      "userId": "17526456028262676023"
     },
     "user_tz": -180
    },
    "id": "zoMoD7qB8SjS",
    "outputId": "f023c223-2b3e-45f1-89af-78594556df29"
   },
   "outputs": [
    {
     "data": {
      "text/html": [
       "<div>\n",
       "<style scoped>\n",
       "    .dataframe tbody tr th:only-of-type {\n",
       "        vertical-align: middle;\n",
       "    }\n",
       "\n",
       "    .dataframe tbody tr th {\n",
       "        vertical-align: top;\n",
       "    }\n",
       "\n",
       "    .dataframe thead th {\n",
       "        text-align: right;\n",
       "    }\n",
       "</style>\n",
       "<table border=\"1\" class=\"dataframe\">\n",
       "  <thead>\n",
       "    <tr style=\"text-align: right;\">\n",
       "      <th></th>\n",
       "      <th>clientid</th>\n",
       "      <th>itemid</th>\n",
       "      <th>action_type</th>\n",
       "      <th>timestamp</th>\n",
       "    </tr>\n",
       "  </thead>\n",
       "  <tbody>\n",
       "    <tr>\n",
       "      <th>0</th>\n",
       "      <td>179153</td>\n",
       "      <td>135391270</td>\n",
       "      <td>view</td>\n",
       "      <td>2019-08-06 15:14:45</td>\n",
       "    </tr>\n",
       "    <tr>\n",
       "      <th>1</th>\n",
       "      <td>179153</td>\n",
       "      <td>135391272</td>\n",
       "      <td>view</td>\n",
       "      <td>2019-08-06 15:16:29</td>\n",
       "    </tr>\n",
       "    <tr>\n",
       "      <th>2</th>\n",
       "      <td>179153</td>\n",
       "      <td>135391270</td>\n",
       "      <td>view</td>\n",
       "      <td>2019-08-08 09:07:29</td>\n",
       "    </tr>\n",
       "    <tr>\n",
       "      <th>3</th>\n",
       "      <td>179153</td>\n",
       "      <td>142132354</td>\n",
       "      <td>view</td>\n",
       "      <td>2019-08-20 17:59:58</td>\n",
       "    </tr>\n",
       "    <tr>\n",
       "      <th>4</th>\n",
       "      <td>179153</td>\n",
       "      <td>140487634</td>\n",
       "      <td>view</td>\n",
       "      <td>2019-08-23 16:46:39</td>\n",
       "    </tr>\n",
       "  </tbody>\n",
       "</table>\n",
       "</div>"
      ],
      "text/plain": [
       "   clientid     itemid action_type           timestamp\n",
       "0    179153  135391270        view 2019-08-06 15:14:45\n",
       "1    179153  135391272        view 2019-08-06 15:16:29\n",
       "2    179153  135391270        view 2019-08-08 09:07:29\n",
       "3    179153  142132354        view 2019-08-20 17:59:58\n",
       "4    179153  140487634        view 2019-08-23 16:46:39"
      ]
     },
     "execution_count": 5,
     "metadata": {
      "tags": []
     },
     "output_type": "execute_result"
    }
   ],
   "source": [
    "user_actions = pd.read_parquet('data/user_actions_august.parquet')\n",
    "user_actions.head()"
   ]
  },
  {
   "cell_type": "code",
   "execution_count": 0,
   "metadata": {
    "colab": {},
    "colab_type": "code",
    "id": "qOgU4TJe8SjW"
   },
   "outputs": [],
   "source": [
    "user_actions['clientid'] = user_actions['clientid'].astype('uint32')\n",
    "user_actions['itemid'] = user_actions['itemid'].astype('uint32')\n",
    "user_actions['action_type'] = user_actions['action_type'].map({'view': 0, 'to_cart': 1}).astype('bool')"
   ]
  },
  {
   "cell_type": "code",
   "execution_count": 7,
   "metadata": {
    "colab": {
     "base_uri": "https://localhost:8080/",
     "height": 204
    },
    "colab_type": "code",
    "executionInfo": {
     "elapsed": 9295,
     "status": "ok",
     "timestamp": 1573478634135,
     "user": {
      "displayName": "Алена Тимофеева",
      "photoUrl": "",
      "userId": "17526456028262676023"
     },
     "user_tz": -180
    },
    "id": "vacNOjHzi_h0",
    "outputId": "a4e405a0-035c-4b53-d4fa-f4472af3f391"
   },
   "outputs": [
    {
     "data": {
      "text/html": [
       "<div>\n",
       "<style scoped>\n",
       "    .dataframe tbody tr th:only-of-type {\n",
       "        vertical-align: middle;\n",
       "    }\n",
       "\n",
       "    .dataframe tbody tr th {\n",
       "        vertical-align: top;\n",
       "    }\n",
       "\n",
       "    .dataframe thead th {\n",
       "        text-align: right;\n",
       "    }\n",
       "</style>\n",
       "<table border=\"1\" class=\"dataframe\">\n",
       "  <thead>\n",
       "    <tr style=\"text-align: right;\">\n",
       "      <th></th>\n",
       "      <th>clientid</th>\n",
       "      <th>itemid</th>\n",
       "    </tr>\n",
       "  </thead>\n",
       "  <tbody>\n",
       "    <tr>\n",
       "      <th>0</th>\n",
       "      <td>0</td>\n",
       "      <td>0</td>\n",
       "    </tr>\n",
       "    <tr>\n",
       "      <th>1</th>\n",
       "      <td>0</td>\n",
       "      <td>1</td>\n",
       "    </tr>\n",
       "    <tr>\n",
       "      <th>2</th>\n",
       "      <td>0</td>\n",
       "      <td>0</td>\n",
       "    </tr>\n",
       "    <tr>\n",
       "      <th>3</th>\n",
       "      <td>0</td>\n",
       "      <td>2</td>\n",
       "    </tr>\n",
       "    <tr>\n",
       "      <th>4</th>\n",
       "      <td>0</td>\n",
       "      <td>3</td>\n",
       "    </tr>\n",
       "  </tbody>\n",
       "</table>\n",
       "</div>"
      ],
      "text/plain": [
       "   clientid  itemid\n",
       "0         0       0\n",
       "1         0       1\n",
       "2         0       0\n",
       "3         0       2\n",
       "4         0       3"
      ]
     },
     "execution_count": 7,
     "metadata": {
      "tags": []
     },
     "output_type": "execute_result"
    }
   ],
   "source": [
    "#деление по просмотрамм\n",
    "new_user_actions_view = user_actions[~user_actions['action_type']].reset_index(drop=True)\n",
    "new_user_actions_view = new_user_actions_view.drop(columns=['timestamp', 'action_type'])\n",
    "user_actions_view, user_mapping, item_mapping = newIndex(new_user_actions_view)\n",
    "user_actions_view.head()"
   ]
  },
  {
   "cell_type": "code",
   "execution_count": 8,
   "metadata": {
    "colab": {
     "base_uri": "https://localhost:8080/",
     "height": 204
    },
    "colab_type": "code",
    "executionInfo": {
     "elapsed": 10934,
     "status": "ok",
     "timestamp": 1573478635787,
     "user": {
      "displayName": "Алена Тимофеева",
      "photoUrl": "",
      "userId": "17526456028262676023"
     },
     "user_tz": -180
    },
    "id": "VfR2-bd7dGV_",
    "outputId": "10f3b948-f828-4de4-e90f-e43d06c8d7c5"
   },
   "outputs": [
    {
     "data": {
      "text/html": [
       "<div>\n",
       "<style scoped>\n",
       "    .dataframe tbody tr th:only-of-type {\n",
       "        vertical-align: middle;\n",
       "    }\n",
       "\n",
       "    .dataframe tbody tr th {\n",
       "        vertical-align: top;\n",
       "    }\n",
       "\n",
       "    .dataframe thead th {\n",
       "        text-align: right;\n",
       "    }\n",
       "</style>\n",
       "<table border=\"1\" class=\"dataframe\">\n",
       "  <thead>\n",
       "    <tr style=\"text-align: right;\">\n",
       "      <th></th>\n",
       "      <th>clientid</th>\n",
       "      <th>itemid</th>\n",
       "    </tr>\n",
       "  </thead>\n",
       "  <tbody>\n",
       "    <tr>\n",
       "      <th>0</th>\n",
       "      <td>0</td>\n",
       "      <td>0</td>\n",
       "    </tr>\n",
       "    <tr>\n",
       "      <th>1</th>\n",
       "      <td>0</td>\n",
       "      <td>0</td>\n",
       "    </tr>\n",
       "    <tr>\n",
       "      <th>2</th>\n",
       "      <td>0</td>\n",
       "      <td>1</td>\n",
       "    </tr>\n",
       "    <tr>\n",
       "      <th>3</th>\n",
       "      <td>0</td>\n",
       "      <td>2</td>\n",
       "    </tr>\n",
       "    <tr>\n",
       "      <th>4</th>\n",
       "      <td>0</td>\n",
       "      <td>3</td>\n",
       "    </tr>\n",
       "  </tbody>\n",
       "</table>\n",
       "</div>"
      ],
      "text/plain": [
       "   clientid  itemid\n",
       "0         0       0\n",
       "1         0       0\n",
       "2         0       1\n",
       "3         0       2\n",
       "4         0       3"
      ]
     },
     "execution_count": 8,
     "metadata": {
      "tags": []
     },
     "output_type": "execute_result"
    }
   ],
   "source": [
    "#деление по добавлению в корзину\n",
    "user_actions_tocart = user_actions[user_actions['action_type']].reset_index(drop=True)\n",
    "user_actions_tocart = user_actions_tocart.drop(columns=['timestamp', 'action_type'])\n",
    "user_actions_tocart,user_mapping_tocart, item_mapping_tocart = newIndex(user_actions_tocart)\n",
    "user_actions_tocart.head()"
   ]
  },
  {
   "cell_type": "markdown",
   "metadata": {
    "colab_type": "text",
    "id": "2Qz7DdmQ1zwv"
   },
   "source": [
    "## Для тренировочной выборки\n",
    "\n",
    "делим также по просмотрам и добавлениям в корзину"
   ]
  },
  {
   "cell_type": "code",
   "execution_count": 11,
   "metadata": {
    "colab": {
     "base_uri": "https://localhost:8080/",
     "height": 187
    },
    "colab_type": "code",
    "executionInfo": {
     "elapsed": 6193,
     "status": "ok",
     "timestamp": 1573478689556,
     "user": {
      "displayName": "Алена Тимофеева",
      "photoUrl": "",
      "userId": "17526456028262676023"
     },
     "user_tz": -180
    },
    "id": "Q-oQC4v58Sja",
    "outputId": "57980f46-1e95-436e-d745-d0747fa7dbc1"
   },
   "outputs": [
    {
     "name": "stdout",
     "output_type": "stream",
     "text": [
      "<class 'pandas.core.frame.DataFrame'>\n",
      "RangeIndex: 1390438 entries, 0 to 1390437\n",
      "Data columns (total 5 columns):\n",
      "clientid         1390438 non-null uint32\n",
      "itemid           1390438 non-null int64\n",
      "jointitemid      1390438 non-null uint32\n",
      "user_cat         1057532 non-null float64\n",
      "jointitem_cat    1082872 non-null float64\n",
      "dtypes: float64(2), int64(1), uint32(2)\n",
      "memory usage: 42.4 MB\n"
     ]
    }
   ],
   "source": [
    "train_target = pd.read_csv('data/train_with_scores.csv')\n",
    "train_target['clientid'] = train_target['clientid'].astype('uint32')\n",
    "train_target['jointitemid'] = train_target['jointitemid'].astype('uint32')\n",
    "train_target['label']=train_target['label'].astype('int8')\n",
    "train_target['novelty_cnt']=train_target['novelty_cnt'].astype('int32')\n",
    "train_target['count_on_session_view']=train_target['count_on_session_view'].astype('int32')\n",
    "train_target['count_on_session_to_cart']=train_target['count_on_session_to_cart'].astype('int32')\n",
    "\n",
    "\n",
    "#по просмотрам\n",
    "ib_train_target_view = train_target[['clientid','itemid','jointitemid']].copy()\n",
    "ib_train_target_view['user_cat'] = ib_train_target_view['clientid'].map(user_mapping.set_index('old').new)\n",
    "ib_train_target_view['jointitem_cat'] = ib_train_target_view['jointitemid'].map(item_mapping.set_index('old').new)\n",
    "\n",
    "#по картэдам\n",
    "ib_train_target_tocart = train_target[['clientid','itemid','jointitemid']].copy()\n",
    "ib_train_target_tocart['user_cat'] = ib_train_target_tocart['clientid'].map(user_mapping_tocart.set_index('old').new)\n",
    "ib_train_target_tocart['jointitem_cat'] = ib_train_target_tocart['jointitemid'].map(item_mapping_tocart.set_index('old').new)\n",
    "ib_train_target_tocart.info()"
   ]
  },
  {
   "cell_type": "markdown",
   "metadata": {
    "colab_type": "text",
    "id": "KbncSx3rdlxE"
   },
   "source": [
    "## Для тестовой выборки\n",
    "\n",
    "делим также по просмотрам и добавлениям в корзину"
   ]
  },
  {
   "cell_type": "code",
   "execution_count": 13,
   "metadata": {
    "colab": {
     "base_uri": "https://localhost:8080/",
     "height": 187
    },
    "colab_type": "code",
    "executionInfo": {
     "elapsed": 2959,
     "status": "ok",
     "timestamp": 1573478716180,
     "user": {
      "displayName": "Алена Тимофеева",
      "photoUrl": "",
      "userId": "17526456028262676023"
     },
     "user_tz": -180
    },
    "id": "iUU1Bf4Edi8k",
    "outputId": "291b8341-cc51-4946-ffaf-38cb7fb8baca"
   },
   "outputs": [
    {
     "name": "stdout",
     "output_type": "stream",
     "text": [
      "<class 'pandas.core.frame.DataFrame'>\n",
      "RangeIndex: 597158 entries, 0 to 597157\n",
      "Data columns (total 5 columns):\n",
      "clientid         597158 non-null uint32\n",
      "itemid           597158 non-null int64\n",
      "jointitemid      597158 non-null uint32\n",
      "user_cat         456344 non-null float64\n",
      "jointitem_cat    461185 non-null float64\n",
      "dtypes: float64(2), int64(1), uint32(2)\n",
      "memory usage: 18.2 MB\n"
     ]
    }
   ],
   "source": [
    "test_target = pd.read_csv('data/test_with_scores.csv')\n",
    "\n",
    "test_target ['clientid'] = test_target ['clientid'].astype('uint32')\n",
    "test_target ['jointitemid'] = test_target ['jointitemid'].astype('uint32')\n",
    "test_target ['label'] = test_target ['label'].astype('int8')\n",
    "test_target ['novelty_cnt'] = test_target ['novelty_cnt'].astype('int32')\n",
    "test_target ['count_on_session_view'] = test_target['count_on_session_view'].astype('int32')\n",
    "test_target ['count_on_session_to_cart'] = test_target ['count_on_session_to_cart'].astype('int32')\n",
    "\n",
    "#по проссмотрам\n",
    "ib_test_target_view = test_target[['clientid','itemid','jointitemid']].copy()\n",
    "ib_test_target_view['user_cat'] = ib_test_target_view['clientid'].map(user_mapping.set_index('old').new)\n",
    "ib_test_target_view['jointitem_cat'] = ib_test_target_view['jointitemid'].map(item_mapping.set_index('old').new)\n",
    "\n",
    "#картедам\n",
    "ib_test_target_tocart = test_target[['clientid','itemid','jointitemid']].copy()\n",
    "ib_test_target_tocart['user_cat'] = ib_test_target_tocart['clientid'].map(user_mapping_tocart.set_index('old').new)\n",
    "ib_test_target_tocart['jointitem_cat'] = ib_test_target_tocart['jointitemid'].map(item_mapping_tocart.set_index('old').new)\n",
    "ib_test_target_tocart.info()"
   ]
  },
  {
   "cell_type": "markdown",
   "metadata": {
    "colab_type": "text",
    "id": "qUPut9zM7y1N"
   },
   "source": [
    "## Расчет матриц для просмотров и картэдов"
   ]
  },
  {
   "cell_type": "code",
   "execution_count": 14,
   "metadata": {
    "colab": {
     "base_uri": "https://localhost:8080/",
     "height": 34
    },
    "colab_type": "code",
    "executionInfo": {
     "elapsed": 367914,
     "status": "ok",
     "timestamp": 1573479090645,
     "user": {
      "displayName": "Алена Тимофеева",
      "photoUrl": "",
      "userId": "17526456028262676023"
     },
     "user_tz": -180
    },
    "id": "ZMPmrAIc78_q",
    "outputId": "cc3808a0-91cc-4744-87e6-e69c6b9dda67"
   },
   "outputs": [
    {
     "data": {
      "application/vnd.jupyter.widget-view+json": {
       "model_id": "0d3af74e222d4c4b9a16c4c92a4e3227",
       "version_major": 2,
       "version_minor": 0
      },
      "text/plain": [
       "HBox(children=(IntProgress(value=0, max=1052719), HTML(value='')))"
      ]
     },
     "metadata": {
      "tags": []
     },
     "output_type": "display_data"
    },
    {
     "name": "stdout",
     "output_type": "stream",
     "text": [
      "\n"
     ]
    }
   ],
   "source": [
    "#Для просмотров\n",
    "shape = (user_mapping['new'].max() + 1, item_mapping['new'].max() + 1) # размер матрицы\n",
    "user_item_view = sp.csr_matrix(arg1=(np.ones_like(user_actions_view['clientid'].values), \n",
    "                                       (user_actions_view['clientid'].values, user_actions_view['itemid'].values)), shape=shape)\n",
    "# all_pairs_knn расчитывает приближенную матрицу похожестей(по N ближайшим соседям)\n",
    "N = 201\n",
    "user_similarity_matrix_view = all_pairs_knn(normalize(user_item_view, axis=1), N, show_progress=True, num_threads=2).tocsr()"
   ]
  },
  {
   "cell_type": "code",
   "execution_count": 15,
   "metadata": {
    "colab": {
     "base_uri": "https://localhost:8080/",
     "height": 71
    },
    "colab_type": "code",
    "executionInfo": {
     "elapsed": 3921,
     "status": "ok",
     "timestamp": 1573479134973,
     "user": {
      "displayName": "Алена Тимофеева",
      "photoUrl": "",
      "userId": "17526456028262676023"
     },
     "user_tz": -180
    },
    "id": "mUDZRUtI6UyF",
    "outputId": "8f05a7c7-95e0-4912-cd8b-ebdfcb35ae67"
   },
   "outputs": [
    {
     "name": "stderr",
     "output_type": "stream",
     "text": [
      "/usr/local/lib/python3.6/dist-packages/scipy/sparse/_index.py:127: SparseEfficiencyWarning: Changing the sparsity structure of a csr_matrix is expensive. lil_matrix is more efficient.\n",
      "  self._set_arrayXarray(i, j, x)\n"
     ]
    }
   ],
   "source": [
    "user_similarity_matrix_view.setdiag(0.)\n",
    "user_similarity_matrix_view.eliminate_zeros()"
   ]
  },
  {
   "cell_type": "code",
   "execution_count": 16,
   "metadata": {
    "colab": {
     "base_uri": "https://localhost:8080/",
     "height": 34
    },
    "colab_type": "code",
    "executionInfo": {
     "elapsed": 561,
     "status": "ok",
     "timestamp": 1573479137132,
     "user": {
      "displayName": "Алена Тимофеева",
      "photoUrl": "",
      "userId": "17526456028262676023"
     },
     "user_tz": -180
    },
    "id": "P_Sdo4Y2iWI9",
    "outputId": "c815196d-0083-433d-ce0b-c162bf3d30a3"
   },
   "outputs": [
    {
     "data": {
      "text/plain": [
       "(1052719, 1052719)"
      ]
     },
     "execution_count": 16,
     "metadata": {
      "tags": []
     },
     "output_type": "execute_result"
    }
   ],
   "source": [
    "user_similarity_matrix_view.shape"
   ]
  },
  {
   "cell_type": "code",
   "execution_count": 17,
   "metadata": {
    "colab": {
     "base_uri": "https://localhost:8080/",
     "height": 34
    },
    "colab_type": "code",
    "executionInfo": {
     "elapsed": 42425,
     "status": "ok",
     "timestamp": 1573479184327,
     "user": {
      "displayName": "Алена Тимофеева",
      "photoUrl": "",
      "userId": "17526456028262676023"
     },
     "user_tz": -180
    },
    "id": "Tpg5kplqg5N1",
    "outputId": "27bb3ed8-6abf-468e-f08d-91e0cd3fbbde"
   },
   "outputs": [
    {
     "data": {
      "application/vnd.jupyter.widget-view+json": {
       "model_id": "94b1cb951ec44939ae1763c4f564aaeb",
       "version_major": 2,
       "version_minor": 0
      },
      "text/plain": [
       "HBox(children=(IntProgress(value=0, max=636764), HTML(value='')))"
      ]
     },
     "metadata": {
      "tags": []
     },
     "output_type": "display_data"
    },
    {
     "name": "stdout",
     "output_type": "stream",
     "text": [
      "\n"
     ]
    }
   ],
   "source": [
    "#Для картэдов\n",
    "shape = (user_mapping_tocart['new'].max() + 1, item_mapping_tocart['new'].max() + 1) # размер матрицы\n",
    "user_item_tocart = sp.csr_matrix(arg1=(np.ones_like(user_actions_tocart['clientid'].values), \n",
    "                                       (user_actions_tocart['clientid'].values, user_actions_tocart['itemid'].values)), shape=shape)\n",
    "    # all_pairs_knn расчитывает приближенную матрицу похожестей(по N ближайшим соседям)\n",
    "N = 201\n",
    "user_similarity_matrix_tocart = all_pairs_knn(normalize(user_item_tocart, axis=1), N, show_progress=True, num_threads=2).tocsr()"
   ]
  },
  {
   "cell_type": "code",
   "execution_count": 18,
   "metadata": {
    "colab": {
     "base_uri": "https://localhost:8080/",
     "height": 71
    },
    "colab_type": "code",
    "executionInfo": {
     "elapsed": 2258,
     "status": "ok",
     "timestamp": 1573479205473,
     "user": {
      "displayName": "Алена Тимофеева",
      "photoUrl": "",
      "userId": "17526456028262676023"
     },
     "user_tz": -180
    },
    "id": "1oi5yI2K6nYQ",
    "outputId": "1f8ca31f-148f-49b4-ed6a-dae1cde4b89b"
   },
   "outputs": [
    {
     "name": "stderr",
     "output_type": "stream",
     "text": [
      "/usr/local/lib/python3.6/dist-packages/scipy/sparse/_index.py:127: SparseEfficiencyWarning: Changing the sparsity structure of a csr_matrix is expensive. lil_matrix is more efficient.\n",
      "  self._set_arrayXarray(i, j, x)\n"
     ]
    }
   ],
   "source": [
    "user_similarity_matrix_tocart.setdiag(0.)\n",
    "user_similarity_matrix_tocart.eliminate_zeros()"
   ]
  },
  {
   "cell_type": "code",
   "execution_count": 19,
   "metadata": {
    "colab": {
     "base_uri": "https://localhost:8080/",
     "height": 34
    },
    "colab_type": "code",
    "executionInfo": {
     "elapsed": 558,
     "status": "ok",
     "timestamp": 1573479206786,
     "user": {
      "displayName": "Алена Тимофеева",
      "photoUrl": "",
      "userId": "17526456028262676023"
     },
     "user_tz": -180
    },
    "id": "zzg2t9UZiNV6",
    "outputId": "fa81a70f-278f-4ce3-87fd-a57165230cd5"
   },
   "outputs": [
    {
     "data": {
      "text/plain": [
       "(636764, 636764)"
      ]
     },
     "execution_count": 19,
     "metadata": {
      "tags": []
     },
     "output_type": "execute_result"
    }
   ],
   "source": [
    "user_similarity_matrix_tocart.shape"
   ]
  },
  {
   "cell_type": "markdown",
   "metadata": {
    "colab_type": "text",
    "id": "6PhYlLtgwts9"
   },
   "source": [
    "### Расчет похожести рекомендованного товара по  юзер бейсд подходу"
   ]
  },
  {
   "cell_type": "code",
   "execution_count": 0,
   "metadata": {
    "colab": {},
    "colab_type": "code",
    "id": "j9PZP6TtPga7"
   },
   "outputs": [],
   "source": [
    "def score_used_based(data,user_similarity_matrix,user_item_view, name_score):\n",
    "  pairs = data.dropna()[['user_cat', 'jointitem_cat']]\n",
    "  pairs['user_cat'] = pairs['user_cat'].astype('uint32')\n",
    "  pairs['jointitem_cat'] = pairs['jointitem_cat'].astype('uint32')\n",
    "  pairs[name_score] = user_similarity_matrix[pairs['user_cat'].values].multiply(user_item_view.T.tocsr()[pairs['jointitem_cat']]).sum(axis=1)\n",
    "  data = pd.merge(data, pairs, on=['user_cat', 'jointitem_cat'], how = 'left').drop_duplicates()\n",
    "  return data\n",
    "  "
   ]
  },
  {
   "cell_type": "markdown",
   "metadata": {
    "colab_type": "text",
    "id": "J6N1aO09jHPt"
   },
   "source": [
    "## для тренировочной выборки"
   ]
  },
  {
   "cell_type": "code",
   "execution_count": 23,
   "metadata": {
    "colab": {
     "base_uri": "https://localhost:8080/",
     "height": 170
    },
    "colab_type": "code",
    "executionInfo": {
     "elapsed": 11725,
     "status": "ok",
     "timestamp": 1573479260323,
     "user": {
      "displayName": "Алена Тимофеева",
      "photoUrl": "",
      "userId": "17526456028262676023"
     },
     "user_tz": -180
    },
    "id": "nX-5hR3OYBp3",
    "outputId": "17a74dfa-6d58-4092-effb-b5e56cd04e5c"
   },
   "outputs": [
    {
     "name": "stdout",
     "output_type": "stream",
     "text": [
      "<class 'pandas.core.frame.DataFrame'>\n",
      "Int64Index: 597158 entries, 0 to 760985\n",
      "Data columns (total 4 columns):\n",
      "clientid         597158 non-null uint32\n",
      "itemid           597158 non-null int64\n",
      "jointitemid      597158 non-null uint32\n",
      "us_based_view    509239 non-null float64\n",
      "dtypes: float64(1), int64(1), uint32(2)\n",
      "memory usage: 18.2 MB\n"
     ]
    }
   ],
   "source": [
    "#табличка для проссмотров\n",
    "df_train_vie = score_used_based(ib_test_target_view,user_similarity_matrix_view ,user_item_view,'us_based_view')\n",
    "#табличка для добавлений в корзину\n",
    "df_train_cart = score_used_based(ib_train_target_tocart,user_similarity_matrix_tocart,user_item_tocart,'us_based_tocart')\n",
    "\n",
    "df_train_vie = df_train_vie.drop(columns = ['user_cat','jointitem_cat'])\n",
    "df_train_cart = df_train_cart.drop(columns = ['user_cat','jointitem_cat'])\n",
    "df_train_vie.info()"
   ]
  },
  {
   "cell_type": "code",
   "execution_count": 24,
   "metadata": {
    "colab": {
     "base_uri": "https://localhost:8080/",
     "height": 527
    },
    "colab_type": "code",
    "executionInfo": {
     "elapsed": 3176,
     "status": "ok",
     "timestamp": 1573479266149,
     "user": {
      "displayName": "Алена Тимофеева",
      "photoUrl": "",
      "userId": "17526456028262676023"
     },
     "user_tz": -180
    },
    "id": "sp5IZ4QgLUvv",
    "outputId": "86ecd26c-3c6f-4877-d43f-f77e2e40f67c"
   },
   "outputs": [
    {
     "name": "stdout",
     "output_type": "stream",
     "text": [
      "<class 'pandas.core.frame.DataFrame'>\n",
      "Int64Index: 1390438 entries, 0 to 1390437\n",
      "Data columns (total 25 columns):\n",
      "clientid                          1390438 non-null uint32\n",
      "itemid                            1390438 non-null int64\n",
      "jointitemid                       1390438 non-null uint32\n",
      "label                             1390438 non-null int8\n",
      "timestamp                         1390438 non-null object\n",
      "view_cnt                          1390438 non-null float64\n",
      "to_cart_cnt                       1390438 non-null float64\n",
      "ctr                               1390438 non-null float64\n",
      "novelty_cnt                       1390438 non-null int32\n",
      "to_cart_day_avg_cnt               1390438 non-null float64\n",
      "view_day_avg_cnt                  1390438 non-null float64\n",
      "to_cart_Lust_Day_cnt              1390438 non-null float64\n",
      "last_day_views                    1390438 non-null float64\n",
      "lastDayToCart/dayAvgToCart_cnt    1390438 non-null float64\n",
      "lastDayView/dayAvgView_cnt        1390438 non-null float64\n",
      "same_items_on_session_view        1390438 non-null float64\n",
      "count_on_session_view             1390438 non-null int32\n",
      "same_items_on_session_to_cart     1390438 non-null float64\n",
      "count_on_session_to_cart          1390438 non-null int32\n",
      "same_name                         1390438 non-null float64\n",
      "same_annotation                   1390438 non-null float64\n",
      "item_based_view                   1390438 non-null float64\n",
      "item_based_tocart                 1390438 non-null float64\n",
      "us_based_view                     1390438 non-null float64\n",
      "us_based_tocart                   1390438 non-null float64\n",
      "dtypes: float64(17), int32(3), int64(1), int8(1), object(1), uint32(2)\n",
      "memory usage: 240.0+ MB\n"
     ]
    }
   ],
   "source": [
    "train = pd.merge(train_target,df_train_vie[['clientid','itemid','jointitemid','us_based_view']],how = 'left')\n",
    "train = pd.merge(train,df_train_cart[['clientid','itemid','jointitemid','us_based_tocart']],how = 'left')\n",
    "train=train.fillna(0)\n",
    "train.info()"
   ]
  },
  {
   "cell_type": "markdown",
   "metadata": {
    "colab_type": "text",
    "id": "RlitdqNi1k-F"
   },
   "source": [
    "## Для тестовой выборки"
   ]
  },
  {
   "cell_type": "code",
   "execution_count": 25,
   "metadata": {
    "colab": {
     "base_uri": "https://localhost:8080/",
     "height": 527
    },
    "colab_type": "code",
    "executionInfo": {
     "elapsed": 11069,
     "status": "ok",
     "timestamp": 1573479277836,
     "user": {
      "displayName": "Алена Тимофеева",
      "photoUrl": "",
      "userId": "17526456028262676023"
     },
     "user_tz": -180
    },
    "id": "fz7buka06kyD",
    "outputId": "d8dc53a4-d689-4a3a-96d1-c23aead8b031"
   },
   "outputs": [
    {
     "name": "stdout",
     "output_type": "stream",
     "text": [
      "<class 'pandas.core.frame.DataFrame'>\n",
      "Int64Index: 597158 entries, 0 to 597157\n",
      "Data columns (total 25 columns):\n",
      "clientid                          597158 non-null uint32\n",
      "itemid                            597158 non-null int64\n",
      "jointitemid                       597158 non-null uint32\n",
      "label                             597158 non-null int8\n",
      "timestamp                         597158 non-null object\n",
      "view_cnt                          597158 non-null float64\n",
      "to_cart_cnt                       597158 non-null float64\n",
      "ctr                               597158 non-null float64\n",
      "novelty_cnt                       597158 non-null int32\n",
      "to_cart_day_avg_cnt               597158 non-null float64\n",
      "view_day_avg_cnt                  597158 non-null float64\n",
      "to_cart_Lust_Day_cnt              597158 non-null float64\n",
      "last_day_views                    597158 non-null float64\n",
      "lastDayToCart/dayAvgToCart_cnt    597158 non-null float64\n",
      "lastDayView/dayAvgView_cnt        597158 non-null float64\n",
      "same_items_on_session_view        597158 non-null float64\n",
      "count_on_session_view             597158 non-null int32\n",
      "same_items_on_session_to_cart     597158 non-null float64\n",
      "count_on_session_to_cart          597158 non-null int32\n",
      "same_name                         597158 non-null float64\n",
      "same_annotation                   597158 non-null float64\n",
      "item_based_view                   597158 non-null float64\n",
      "item_based_tocart                 597158 non-null float64\n",
      "us_based_view                     597158 non-null float64\n",
      "us_based_tocart                   597158 non-null float64\n",
      "dtypes: float64(17), int32(3), int64(1), int8(1), object(1), uint32(2)\n",
      "memory usage: 103.1+ MB\n"
     ]
    }
   ],
   "source": [
    "#табличка для проссмотров\n",
    "df_test_view = score_used_based(ib_test_target_view,user_similarity_matrix_view ,user_item_view,'us_based_view')\n",
    "#табличка для добавлений в корзину\n",
    "df_test_tocart = score_used_based(ib_test_target_tocart,user_similarity_matrix_tocart,user_item_tocart,'us_based_tocart')\n",
    "\n",
    "df_test_view = df_test_view.drop(columns = ['user_cat','jointitem_cat'])\n",
    "df_test_tocart = df_test_tocart.drop(columns = ['user_cat','jointitem_cat'])\n",
    "\n",
    "#объеденяем наши таблички, удаляем ненужные столбцы и заполняем пустые значения нулями\n",
    "test_scores = pd.merge(test_target, df_test_view[['clientid','itemid','jointitemid','us_based_view']],how = 'left')\n",
    "\n",
    "test_scores = pd.merge(test_scores,df_test_tocart[['clientid','itemid','jointitemid','us_based_tocart']],how = 'left')\n",
    "test_scores = test_scores.fillna(0)\n",
    "test_scores.info()\n"
   ]
  },
  {
   "cell_type": "markdown",
   "metadata": {
    "colab_type": "text",
    "id": "hnY3iFm5kC5S"
   },
   "source": [
    "## Запись в тестовый и тренеровочный файл"
   ]
  },
  {
   "cell_type": "code",
   "execution_count": 0,
   "metadata": {
    "colab": {},
    "colab_type": "code",
    "id": "fViL1FM57dn0"
   },
   "outputs": [],
   "source": [
    "test_scores.to_csv(\"/content/gdrive/My Drive/python/data/test_with_scores.csv\", index = False)\n",
    "train.to_csv(\"/content/gdrive/My Drive/python/data/train_with_scores.csv\", index = False)"
   ]
  }
 ],
 "metadata": {
  "colab": {
   "collapsed_sections": [],
   "machine_shape": "hm",
   "name": "user_based_approach.ipynb",
   "provenance": []
  },
  "kernelspec": {
   "display_name": "Python 3",
   "language": "python",
   "name": "python3"
  },
  "language_info": {
   "codemirror_mode": {
    "name": "ipython",
    "version": 3
   },
   "file_extension": ".py",
   "mimetype": "text/x-python",
   "name": "python",
   "nbconvert_exporter": "python",
   "pygments_lexer": "ipython3",
   "version": "3.7.3"
  }
 },
 "nbformat": 4,
 "nbformat_minor": 1
}
